{
  "metadata": {
    "kernelspec": {
      "display_name": "Python 3",
      "language": "python",
      "name": "python3"
    },
    "language_info": {
      "name": "python",
      "version": "3.6.5",
      "mimetype": "text/x-python",
      "codemirror_mode": {
        "name": "ipython",
        "version": 3
      },
      "pygments_lexer": "ipython3",
      "nbconvert_exporter": "python",
      "file_extension": ".py"
    },
    "colab": {
      "name": "AIGroupProjectAuto.ipynb",
      "provenance": [],
      "collapsed_sections": []
    }
  },
  "nbformat_minor": 0,
  "nbformat": 4,
  "cells": [
    {
      "cell_type": "code",
      "source": [
        "import numpy as np # linear algebra\n",
        "import pandas as pd # data processing, CSV file I/O (e.g. pd.read_csv)\n",
        "from sklearn import model_selection # for splitting the data into training and testing data\n",
        "import seaborn as sns\n",
        "from sklearn.linear_model import LinearRegression \n",
        "from sklearn.model_selection import train_test_split\n",
        "\n",
        "from sklearn.tree import DecisionTreeRegressor\n",
        "from sklearn.ensemble import RandomForestRegressor\n",
        "\n",
        "\n",
        "# Any results you write to the current directory are saved as output."
      ],
      "metadata": {
        "_uuid": "e774130dd397621bdfc6224374e51d0e50f122f1",
        "collapsed": true,
        "jupyter": {
          "outputs_hidden": true
        },
        "trusted": true,
        "id": "FTroSMtORwcm"
      },
      "execution_count": 75,
      "outputs": []
    },
    {
      "cell_type": "code",
      "source": [
        "train_data = pd.read_csv(\"autos.csv\" ,encoding = \"ISO-8859-1\" )"
      ],
      "metadata": {
        "_uuid": "bfcb9005a8260250057b86f46629fe08cb46e207",
        "collapsed": true,
        "jupyter": {
          "outputs_hidden": true
        },
        "trusted": true,
        "id": "RG2_t2fQRwcr"
      },
      "execution_count": 76,
      "outputs": []
    },
    {
      "cell_type": "code",
      "source": [
        "print(train_data.shape)"
      ],
      "metadata": {
        "_uuid": "5a62fff1c3f1caa70c79272eefbe533c4920fe22",
        "collapsed": true,
        "jupyter": {
          "outputs_hidden": true
        },
        "trusted": true,
        "colab": {
          "base_uri": "https://localhost:8080/"
        },
        "id": "yCFQcZMMRwct",
        "outputId": "877a2b01-820b-4503-9f50-32f38ca02a1f"
      },
      "execution_count": 77,
      "outputs": [
        {
          "output_type": "stream",
          "name": "stdout",
          "text": [
            "(371528, 20)\n"
          ]
        }
      ]
    },
    {
      "cell_type": "markdown",
      "source": [
        "*Let's understand the data in deep*"
      ],
      "metadata": {
        "_uuid": "6f9060dd5c56f19a5208b2a4c7ea8e71b66caca6",
        "id": "MuliFmBZRwcu"
      }
    },
    {
      "cell_type": "code",
      "source": [
        "train_data.head()"
      ],
      "metadata": {
        "_uuid": "0888075e1d7fe691f4680f6a3f2108a6d64810a1",
        "collapsed": true,
        "jupyter": {
          "outputs_hidden": true
        },
        "trusted": true,
        "colab": {
          "base_uri": "https://localhost:8080/",
          "height": 444
        },
        "id": "aI-hzmamRwcw",
        "outputId": "d20f7511-5831-4462-acf9-1b21ad596b8b"
      },
      "execution_count": 78,
      "outputs": [
        {
          "output_type": "execute_result",
          "data": {
            "text/plain": [
              "           dateCrawled                            name  seller offerType  \\\n",
              "0  2016-03-24 11:52:17                      Golf_3_1.6  privat   Angebot   \n",
              "1  2016-03-24 10:58:45            A5_Sportback_2.7_Tdi  privat   Angebot   \n",
              "2  2016-03-14 12:52:21  Jeep_Grand_Cherokee_\"Overland\"  privat   Angebot   \n",
              "3  2016-03-17 16:54:04              GOLF_4_1_4__3TÜRER  privat   Angebot   \n",
              "4  2016-03-31 17:25:20  Skoda_Fabia_1.4_TDI_PD_Classic  privat   Angebot   \n",
              "\n",
              "   price abtest vehicleType  yearOfRegistration    gearbox  powerPS  model  \\\n",
              "0    480   test         NaN                1993    manuell        0   golf   \n",
              "1  18300   test       coupe                2011    manuell      190    NaN   \n",
              "2   9800   test         suv                2004  automatik      163  grand   \n",
              "3   1500   test  kleinwagen                2001    manuell       75   golf   \n",
              "4   3600   test  kleinwagen                2008    manuell       69  fabia   \n",
              "\n",
              "   kilometer  monthOfRegistration fuelType       brand notRepairedDamage  \\\n",
              "0     150000                    0   benzin  volkswagen               NaN   \n",
              "1     125000                    5   diesel        audi                ja   \n",
              "2     125000                    8   diesel        jeep               NaN   \n",
              "3     150000                    6   benzin  volkswagen              nein   \n",
              "4      90000                    7   diesel       skoda              nein   \n",
              "\n",
              "           dateCreated  nrOfPictures  postalCode             lastSeen  \n",
              "0  2016-03-24 00:00:00             0       70435  2016-04-07 03:16:57  \n",
              "1  2016-03-24 00:00:00             0       66954  2016-04-07 01:46:50  \n",
              "2  2016-03-14 00:00:00             0       90480  2016-04-05 12:47:46  \n",
              "3  2016-03-17 00:00:00             0       91074  2016-03-17 17:40:17  \n",
              "4  2016-03-31 00:00:00             0       60437  2016-04-06 10:17:21  "
            ],
            "text/html": [
              "\n",
              "  <div id=\"df-de4abe18-524a-42fb-ba84-976664afb28e\">\n",
              "    <div class=\"colab-df-container\">\n",
              "      <div>\n",
              "<style scoped>\n",
              "    .dataframe tbody tr th:only-of-type {\n",
              "        vertical-align: middle;\n",
              "    }\n",
              "\n",
              "    .dataframe tbody tr th {\n",
              "        vertical-align: top;\n",
              "    }\n",
              "\n",
              "    .dataframe thead th {\n",
              "        text-align: right;\n",
              "    }\n",
              "</style>\n",
              "<table border=\"1\" class=\"dataframe\">\n",
              "  <thead>\n",
              "    <tr style=\"text-align: right;\">\n",
              "      <th></th>\n",
              "      <th>dateCrawled</th>\n",
              "      <th>name</th>\n",
              "      <th>seller</th>\n",
              "      <th>offerType</th>\n",
              "      <th>price</th>\n",
              "      <th>abtest</th>\n",
              "      <th>vehicleType</th>\n",
              "      <th>yearOfRegistration</th>\n",
              "      <th>gearbox</th>\n",
              "      <th>powerPS</th>\n",
              "      <th>model</th>\n",
              "      <th>kilometer</th>\n",
              "      <th>monthOfRegistration</th>\n",
              "      <th>fuelType</th>\n",
              "      <th>brand</th>\n",
              "      <th>notRepairedDamage</th>\n",
              "      <th>dateCreated</th>\n",
              "      <th>nrOfPictures</th>\n",
              "      <th>postalCode</th>\n",
              "      <th>lastSeen</th>\n",
              "    </tr>\n",
              "  </thead>\n",
              "  <tbody>\n",
              "    <tr>\n",
              "      <th>0</th>\n",
              "      <td>2016-03-24 11:52:17</td>\n",
              "      <td>Golf_3_1.6</td>\n",
              "      <td>privat</td>\n",
              "      <td>Angebot</td>\n",
              "      <td>480</td>\n",
              "      <td>test</td>\n",
              "      <td>NaN</td>\n",
              "      <td>1993</td>\n",
              "      <td>manuell</td>\n",
              "      <td>0</td>\n",
              "      <td>golf</td>\n",
              "      <td>150000</td>\n",
              "      <td>0</td>\n",
              "      <td>benzin</td>\n",
              "      <td>volkswagen</td>\n",
              "      <td>NaN</td>\n",
              "      <td>2016-03-24 00:00:00</td>\n",
              "      <td>0</td>\n",
              "      <td>70435</td>\n",
              "      <td>2016-04-07 03:16:57</td>\n",
              "    </tr>\n",
              "    <tr>\n",
              "      <th>1</th>\n",
              "      <td>2016-03-24 10:58:45</td>\n",
              "      <td>A5_Sportback_2.7_Tdi</td>\n",
              "      <td>privat</td>\n",
              "      <td>Angebot</td>\n",
              "      <td>18300</td>\n",
              "      <td>test</td>\n",
              "      <td>coupe</td>\n",
              "      <td>2011</td>\n",
              "      <td>manuell</td>\n",
              "      <td>190</td>\n",
              "      <td>NaN</td>\n",
              "      <td>125000</td>\n",
              "      <td>5</td>\n",
              "      <td>diesel</td>\n",
              "      <td>audi</td>\n",
              "      <td>ja</td>\n",
              "      <td>2016-03-24 00:00:00</td>\n",
              "      <td>0</td>\n",
              "      <td>66954</td>\n",
              "      <td>2016-04-07 01:46:50</td>\n",
              "    </tr>\n",
              "    <tr>\n",
              "      <th>2</th>\n",
              "      <td>2016-03-14 12:52:21</td>\n",
              "      <td>Jeep_Grand_Cherokee_\"Overland\"</td>\n",
              "      <td>privat</td>\n",
              "      <td>Angebot</td>\n",
              "      <td>9800</td>\n",
              "      <td>test</td>\n",
              "      <td>suv</td>\n",
              "      <td>2004</td>\n",
              "      <td>automatik</td>\n",
              "      <td>163</td>\n",
              "      <td>grand</td>\n",
              "      <td>125000</td>\n",
              "      <td>8</td>\n",
              "      <td>diesel</td>\n",
              "      <td>jeep</td>\n",
              "      <td>NaN</td>\n",
              "      <td>2016-03-14 00:00:00</td>\n",
              "      <td>0</td>\n",
              "      <td>90480</td>\n",
              "      <td>2016-04-05 12:47:46</td>\n",
              "    </tr>\n",
              "    <tr>\n",
              "      <th>3</th>\n",
              "      <td>2016-03-17 16:54:04</td>\n",
              "      <td>GOLF_4_1_4__3TÜRER</td>\n",
              "      <td>privat</td>\n",
              "      <td>Angebot</td>\n",
              "      <td>1500</td>\n",
              "      <td>test</td>\n",
              "      <td>kleinwagen</td>\n",
              "      <td>2001</td>\n",
              "      <td>manuell</td>\n",
              "      <td>75</td>\n",
              "      <td>golf</td>\n",
              "      <td>150000</td>\n",
              "      <td>6</td>\n",
              "      <td>benzin</td>\n",
              "      <td>volkswagen</td>\n",
              "      <td>nein</td>\n",
              "      <td>2016-03-17 00:00:00</td>\n",
              "      <td>0</td>\n",
              "      <td>91074</td>\n",
              "      <td>2016-03-17 17:40:17</td>\n",
              "    </tr>\n",
              "    <tr>\n",
              "      <th>4</th>\n",
              "      <td>2016-03-31 17:25:20</td>\n",
              "      <td>Skoda_Fabia_1.4_TDI_PD_Classic</td>\n",
              "      <td>privat</td>\n",
              "      <td>Angebot</td>\n",
              "      <td>3600</td>\n",
              "      <td>test</td>\n",
              "      <td>kleinwagen</td>\n",
              "      <td>2008</td>\n",
              "      <td>manuell</td>\n",
              "      <td>69</td>\n",
              "      <td>fabia</td>\n",
              "      <td>90000</td>\n",
              "      <td>7</td>\n",
              "      <td>diesel</td>\n",
              "      <td>skoda</td>\n",
              "      <td>nein</td>\n",
              "      <td>2016-03-31 00:00:00</td>\n",
              "      <td>0</td>\n",
              "      <td>60437</td>\n",
              "      <td>2016-04-06 10:17:21</td>\n",
              "    </tr>\n",
              "  </tbody>\n",
              "</table>\n",
              "</div>\n",
              "      <button class=\"colab-df-convert\" onclick=\"convertToInteractive('df-de4abe18-524a-42fb-ba84-976664afb28e')\"\n",
              "              title=\"Convert this dataframe to an interactive table.\"\n",
              "              style=\"display:none;\">\n",
              "        \n",
              "  <svg xmlns=\"http://www.w3.org/2000/svg\" height=\"24px\"viewBox=\"0 0 24 24\"\n",
              "       width=\"24px\">\n",
              "    <path d=\"M0 0h24v24H0V0z\" fill=\"none\"/>\n",
              "    <path d=\"M18.56 5.44l.94 2.06.94-2.06 2.06-.94-2.06-.94-.94-2.06-.94 2.06-2.06.94zm-11 1L8.5 8.5l.94-2.06 2.06-.94-2.06-.94L8.5 2.5l-.94 2.06-2.06.94zm10 10l.94 2.06.94-2.06 2.06-.94-2.06-.94-.94-2.06-.94 2.06-2.06.94z\"/><path d=\"M17.41 7.96l-1.37-1.37c-.4-.4-.92-.59-1.43-.59-.52 0-1.04.2-1.43.59L10.3 9.45l-7.72 7.72c-.78.78-.78 2.05 0 2.83L4 21.41c.39.39.9.59 1.41.59.51 0 1.02-.2 1.41-.59l7.78-7.78 2.81-2.81c.8-.78.8-2.07 0-2.86zM5.41 20L4 18.59l7.72-7.72 1.47 1.35L5.41 20z\"/>\n",
              "  </svg>\n",
              "      </button>\n",
              "      \n",
              "  <style>\n",
              "    .colab-df-container {\n",
              "      display:flex;\n",
              "      flex-wrap:wrap;\n",
              "      gap: 12px;\n",
              "    }\n",
              "\n",
              "    .colab-df-convert {\n",
              "      background-color: #E8F0FE;\n",
              "      border: none;\n",
              "      border-radius: 50%;\n",
              "      cursor: pointer;\n",
              "      display: none;\n",
              "      fill: #1967D2;\n",
              "      height: 32px;\n",
              "      padding: 0 0 0 0;\n",
              "      width: 32px;\n",
              "    }\n",
              "\n",
              "    .colab-df-convert:hover {\n",
              "      background-color: #E2EBFA;\n",
              "      box-shadow: 0px 1px 2px rgba(60, 64, 67, 0.3), 0px 1px 3px 1px rgba(60, 64, 67, 0.15);\n",
              "      fill: #174EA6;\n",
              "    }\n",
              "\n",
              "    [theme=dark] .colab-df-convert {\n",
              "      background-color: #3B4455;\n",
              "      fill: #D2E3FC;\n",
              "    }\n",
              "\n",
              "    [theme=dark] .colab-df-convert:hover {\n",
              "      background-color: #434B5C;\n",
              "      box-shadow: 0px 1px 3px 1px rgba(0, 0, 0, 0.15);\n",
              "      filter: drop-shadow(0px 1px 2px rgba(0, 0, 0, 0.3));\n",
              "      fill: #FFFFFF;\n",
              "    }\n",
              "  </style>\n",
              "\n",
              "      <script>\n",
              "        const buttonEl =\n",
              "          document.querySelector('#df-de4abe18-524a-42fb-ba84-976664afb28e button.colab-df-convert');\n",
              "        buttonEl.style.display =\n",
              "          google.colab.kernel.accessAllowed ? 'block' : 'none';\n",
              "\n",
              "        async function convertToInteractive(key) {\n",
              "          const element = document.querySelector('#df-de4abe18-524a-42fb-ba84-976664afb28e');\n",
              "          const dataTable =\n",
              "            await google.colab.kernel.invokeFunction('convertToInteractive',\n",
              "                                                     [key], {});\n",
              "          if (!dataTable) return;\n",
              "\n",
              "          const docLinkHtml = 'Like what you see? Visit the ' +\n",
              "            '<a target=\"_blank\" href=https://colab.research.google.com/notebooks/data_table.ipynb>data table notebook</a>'\n",
              "            + ' to learn more about interactive tables.';\n",
              "          element.innerHTML = '';\n",
              "          dataTable['output_type'] = 'display_data';\n",
              "          await google.colab.output.renderOutput(dataTable, element);\n",
              "          const docLink = document.createElement('div');\n",
              "          docLink.innerHTML = docLinkHtml;\n",
              "          element.appendChild(docLink);\n",
              "        }\n",
              "      </script>\n",
              "    </div>\n",
              "  </div>\n",
              "  "
            ]
          },
          "metadata": {},
          "execution_count": 78
        }
      ]
    },
    {
      "cell_type": "code",
      "source": [
        "train_data.describe()"
      ],
      "metadata": {
        "_uuid": "4b5e291da3612bb805616816f36a80fa586a1f38",
        "collapsed": true,
        "jupyter": {
          "outputs_hidden": true
        },
        "trusted": true,
        "colab": {
          "base_uri": "https://localhost:8080/",
          "height": 300
        },
        "id": "TdHUqx-WRwcx",
        "outputId": "d1ceff03-c879-4caf-b3ed-88c2cdfe37cb"
      },
      "execution_count": 79,
      "outputs": [
        {
          "output_type": "execute_result",
          "data": {
            "text/plain": [
              "              price  yearOfRegistration        powerPS      kilometer  \\\n",
              "count  3.715280e+05       371528.000000  371528.000000  371528.000000   \n",
              "mean   1.729514e+04         2004.577997     115.549477  125618.688228   \n",
              "std    3.587954e+06           92.866598     192.139578   40112.337051   \n",
              "min    0.000000e+00         1000.000000       0.000000    5000.000000   \n",
              "25%    1.150000e+03         1999.000000      70.000000  125000.000000   \n",
              "50%    2.950000e+03         2003.000000     105.000000  150000.000000   \n",
              "75%    7.200000e+03         2008.000000     150.000000  150000.000000   \n",
              "max    2.147484e+09         9999.000000   20000.000000  150000.000000   \n",
              "\n",
              "       monthOfRegistration  nrOfPictures    postalCode  \n",
              "count        371528.000000      371528.0  371528.00000  \n",
              "mean              5.734445           0.0   50820.66764  \n",
              "std               3.712412           0.0   25799.08247  \n",
              "min               0.000000           0.0    1067.00000  \n",
              "25%               3.000000           0.0   30459.00000  \n",
              "50%               6.000000           0.0   49610.00000  \n",
              "75%               9.000000           0.0   71546.00000  \n",
              "max              12.000000           0.0   99998.00000  "
            ],
            "text/html": [
              "\n",
              "  <div id=\"df-2abcb1bf-da7c-4bad-9403-c5c5b55bb0aa\">\n",
              "    <div class=\"colab-df-container\">\n",
              "      <div>\n",
              "<style scoped>\n",
              "    .dataframe tbody tr th:only-of-type {\n",
              "        vertical-align: middle;\n",
              "    }\n",
              "\n",
              "    .dataframe tbody tr th {\n",
              "        vertical-align: top;\n",
              "    }\n",
              "\n",
              "    .dataframe thead th {\n",
              "        text-align: right;\n",
              "    }\n",
              "</style>\n",
              "<table border=\"1\" class=\"dataframe\">\n",
              "  <thead>\n",
              "    <tr style=\"text-align: right;\">\n",
              "      <th></th>\n",
              "      <th>price</th>\n",
              "      <th>yearOfRegistration</th>\n",
              "      <th>powerPS</th>\n",
              "      <th>kilometer</th>\n",
              "      <th>monthOfRegistration</th>\n",
              "      <th>nrOfPictures</th>\n",
              "      <th>postalCode</th>\n",
              "    </tr>\n",
              "  </thead>\n",
              "  <tbody>\n",
              "    <tr>\n",
              "      <th>count</th>\n",
              "      <td>3.715280e+05</td>\n",
              "      <td>371528.000000</td>\n",
              "      <td>371528.000000</td>\n",
              "      <td>371528.000000</td>\n",
              "      <td>371528.000000</td>\n",
              "      <td>371528.0</td>\n",
              "      <td>371528.00000</td>\n",
              "    </tr>\n",
              "    <tr>\n",
              "      <th>mean</th>\n",
              "      <td>1.729514e+04</td>\n",
              "      <td>2004.577997</td>\n",
              "      <td>115.549477</td>\n",
              "      <td>125618.688228</td>\n",
              "      <td>5.734445</td>\n",
              "      <td>0.0</td>\n",
              "      <td>50820.66764</td>\n",
              "    </tr>\n",
              "    <tr>\n",
              "      <th>std</th>\n",
              "      <td>3.587954e+06</td>\n",
              "      <td>92.866598</td>\n",
              "      <td>192.139578</td>\n",
              "      <td>40112.337051</td>\n",
              "      <td>3.712412</td>\n",
              "      <td>0.0</td>\n",
              "      <td>25799.08247</td>\n",
              "    </tr>\n",
              "    <tr>\n",
              "      <th>min</th>\n",
              "      <td>0.000000e+00</td>\n",
              "      <td>1000.000000</td>\n",
              "      <td>0.000000</td>\n",
              "      <td>5000.000000</td>\n",
              "      <td>0.000000</td>\n",
              "      <td>0.0</td>\n",
              "      <td>1067.00000</td>\n",
              "    </tr>\n",
              "    <tr>\n",
              "      <th>25%</th>\n",
              "      <td>1.150000e+03</td>\n",
              "      <td>1999.000000</td>\n",
              "      <td>70.000000</td>\n",
              "      <td>125000.000000</td>\n",
              "      <td>3.000000</td>\n",
              "      <td>0.0</td>\n",
              "      <td>30459.00000</td>\n",
              "    </tr>\n",
              "    <tr>\n",
              "      <th>50%</th>\n",
              "      <td>2.950000e+03</td>\n",
              "      <td>2003.000000</td>\n",
              "      <td>105.000000</td>\n",
              "      <td>150000.000000</td>\n",
              "      <td>6.000000</td>\n",
              "      <td>0.0</td>\n",
              "      <td>49610.00000</td>\n",
              "    </tr>\n",
              "    <tr>\n",
              "      <th>75%</th>\n",
              "      <td>7.200000e+03</td>\n",
              "      <td>2008.000000</td>\n",
              "      <td>150.000000</td>\n",
              "      <td>150000.000000</td>\n",
              "      <td>9.000000</td>\n",
              "      <td>0.0</td>\n",
              "      <td>71546.00000</td>\n",
              "    </tr>\n",
              "    <tr>\n",
              "      <th>max</th>\n",
              "      <td>2.147484e+09</td>\n",
              "      <td>9999.000000</td>\n",
              "      <td>20000.000000</td>\n",
              "      <td>150000.000000</td>\n",
              "      <td>12.000000</td>\n",
              "      <td>0.0</td>\n",
              "      <td>99998.00000</td>\n",
              "    </tr>\n",
              "  </tbody>\n",
              "</table>\n",
              "</div>\n",
              "      <button class=\"colab-df-convert\" onclick=\"convertToInteractive('df-2abcb1bf-da7c-4bad-9403-c5c5b55bb0aa')\"\n",
              "              title=\"Convert this dataframe to an interactive table.\"\n",
              "              style=\"display:none;\">\n",
              "        \n",
              "  <svg xmlns=\"http://www.w3.org/2000/svg\" height=\"24px\"viewBox=\"0 0 24 24\"\n",
              "       width=\"24px\">\n",
              "    <path d=\"M0 0h24v24H0V0z\" fill=\"none\"/>\n",
              "    <path d=\"M18.56 5.44l.94 2.06.94-2.06 2.06-.94-2.06-.94-.94-2.06-.94 2.06-2.06.94zm-11 1L8.5 8.5l.94-2.06 2.06-.94-2.06-.94L8.5 2.5l-.94 2.06-2.06.94zm10 10l.94 2.06.94-2.06 2.06-.94-2.06-.94-.94-2.06-.94 2.06-2.06.94z\"/><path d=\"M17.41 7.96l-1.37-1.37c-.4-.4-.92-.59-1.43-.59-.52 0-1.04.2-1.43.59L10.3 9.45l-7.72 7.72c-.78.78-.78 2.05 0 2.83L4 21.41c.39.39.9.59 1.41.59.51 0 1.02-.2 1.41-.59l7.78-7.78 2.81-2.81c.8-.78.8-2.07 0-2.86zM5.41 20L4 18.59l7.72-7.72 1.47 1.35L5.41 20z\"/>\n",
              "  </svg>\n",
              "      </button>\n",
              "      \n",
              "  <style>\n",
              "    .colab-df-container {\n",
              "      display:flex;\n",
              "      flex-wrap:wrap;\n",
              "      gap: 12px;\n",
              "    }\n",
              "\n",
              "    .colab-df-convert {\n",
              "      background-color: #E8F0FE;\n",
              "      border: none;\n",
              "      border-radius: 50%;\n",
              "      cursor: pointer;\n",
              "      display: none;\n",
              "      fill: #1967D2;\n",
              "      height: 32px;\n",
              "      padding: 0 0 0 0;\n",
              "      width: 32px;\n",
              "    }\n",
              "\n",
              "    .colab-df-convert:hover {\n",
              "      background-color: #E2EBFA;\n",
              "      box-shadow: 0px 1px 2px rgba(60, 64, 67, 0.3), 0px 1px 3px 1px rgba(60, 64, 67, 0.15);\n",
              "      fill: #174EA6;\n",
              "    }\n",
              "\n",
              "    [theme=dark] .colab-df-convert {\n",
              "      background-color: #3B4455;\n",
              "      fill: #D2E3FC;\n",
              "    }\n",
              "\n",
              "    [theme=dark] .colab-df-convert:hover {\n",
              "      background-color: #434B5C;\n",
              "      box-shadow: 0px 1px 3px 1px rgba(0, 0, 0, 0.15);\n",
              "      filter: drop-shadow(0px 1px 2px rgba(0, 0, 0, 0.3));\n",
              "      fill: #FFFFFF;\n",
              "    }\n",
              "  </style>\n",
              "\n",
              "      <script>\n",
              "        const buttonEl =\n",
              "          document.querySelector('#df-2abcb1bf-da7c-4bad-9403-c5c5b55bb0aa button.colab-df-convert');\n",
              "        buttonEl.style.display =\n",
              "          google.colab.kernel.accessAllowed ? 'block' : 'none';\n",
              "\n",
              "        async function convertToInteractive(key) {\n",
              "          const element = document.querySelector('#df-2abcb1bf-da7c-4bad-9403-c5c5b55bb0aa');\n",
              "          const dataTable =\n",
              "            await google.colab.kernel.invokeFunction('convertToInteractive',\n",
              "                                                     [key], {});\n",
              "          if (!dataTable) return;\n",
              "\n",
              "          const docLinkHtml = 'Like what you see? Visit the ' +\n",
              "            '<a target=\"_blank\" href=https://colab.research.google.com/notebooks/data_table.ipynb>data table notebook</a>'\n",
              "            + ' to learn more about interactive tables.';\n",
              "          element.innerHTML = '';\n",
              "          dataTable['output_type'] = 'display_data';\n",
              "          await google.colab.output.renderOutput(dataTable, element);\n",
              "          const docLink = document.createElement('div');\n",
              "          docLink.innerHTML = docLinkHtml;\n",
              "          element.appendChild(docLink);\n",
              "        }\n",
              "      </script>\n",
              "    </div>\n",
              "  </div>\n",
              "  "
            ]
          },
          "metadata": {},
          "execution_count": 79
        }
      ]
    },
    {
      "cell_type": "code",
      "source": [
        "train_data.isnull().sum()"
      ],
      "metadata": {
        "_uuid": "5ba538a0ef125034bea1c77bad2d992780ac8b1f",
        "collapsed": true,
        "jupyter": {
          "outputs_hidden": true
        },
        "trusted": true,
        "colab": {
          "base_uri": "https://localhost:8080/"
        },
        "id": "blnJU_55Rwcz",
        "outputId": "2bac9869-19be-419a-bbac-5e2a364d8935"
      },
      "execution_count": 80,
      "outputs": [
        {
          "output_type": "execute_result",
          "data": {
            "text/plain": [
              "dateCrawled                0\n",
              "name                       0\n",
              "seller                     0\n",
              "offerType                  0\n",
              "price                      0\n",
              "abtest                     0\n",
              "vehicleType            37869\n",
              "yearOfRegistration         0\n",
              "gearbox                20209\n",
              "powerPS                    0\n",
              "model                  20484\n",
              "kilometer                  0\n",
              "monthOfRegistration        0\n",
              "fuelType               33386\n",
              "brand                      0\n",
              "notRepairedDamage      72060\n",
              "dateCreated                0\n",
              "nrOfPictures               0\n",
              "postalCode                 0\n",
              "lastSeen                   0\n",
              "dtype: int64"
            ]
          },
          "metadata": {},
          "execution_count": 80
        }
      ]
    },
    {
      "cell_type": "markdown",
      "source": [
        "5 columns have nan values"
      ],
      "metadata": {
        "_uuid": "83c367c6195c03cf3c9b87a5af96470285ca04e1",
        "id": "fiTLP_vuRwc0"
      }
    },
    {
      "cell_type": "markdown",
      "source": [
        "## Look at the seller column"
      ],
      "metadata": {
        "_uuid": "ebf886982cbbea70b1705a7d9139e451c536d67a",
        "id": "_XfTIZq9Rwc1"
      }
    },
    {
      "cell_type": "code",
      "source": [
        "train_data[\"seller\"].value_counts()"
      ],
      "metadata": {
        "_uuid": "1745fa4f1556a574e2e343a356f766bcd47da188",
        "collapsed": true,
        "jupyter": {
          "outputs_hidden": true
        },
        "trusted": true,
        "colab": {
          "base_uri": "https://localhost:8080/"
        },
        "id": "duaawBqnRwc3",
        "outputId": "8b799fc4-4d1a-4153-8f9a-7fd933cdf4bb"
      },
      "execution_count": 81,
      "outputs": [
        {
          "output_type": "execute_result",
          "data": {
            "text/plain": [
              "privat        371525\n",
              "gewerblich         3\n",
              "Name: seller, dtype: int64"
            ]
          },
          "metadata": {},
          "execution_count": 81
        }
      ]
    },
    {
      "cell_type": "markdown",
      "source": [
        "Only 3 belong to second seller , this is interesting and also we get to know this feature has not of any use"
      ],
      "metadata": {
        "_kg_hide-input": true,
        "_uuid": "b93c8bf471cbd0eb3c88b3712a54bfc039ab788c",
        "id": "hM8bNFIIRwc4"
      }
    },
    {
      "cell_type": "code",
      "source": [
        "del train_data[\"seller\"]"
      ],
      "metadata": {
        "_uuid": "43da33e70dd179f492ae1739fddfb098e05235e6",
        "collapsed": true,
        "jupyter": {
          "outputs_hidden": true
        },
        "trusted": true,
        "id": "k98jGVhVRwc5"
      },
      "execution_count": 82,
      "outputs": []
    },
    {
      "cell_type": "markdown",
      "source": [
        "## Look at  the offerType column"
      ],
      "metadata": {
        "_uuid": "df9fadd1aa27591361ab42ab948e466cde9333f5",
        "id": "iUfjtQqORwc6"
      }
    },
    {
      "cell_type": "code",
      "source": [
        "train_data[\"offerType\"].value_counts()"
      ],
      "metadata": {
        "_uuid": "be79b0807986a1bbb49f98c97c5af8de8817acab",
        "collapsed": true,
        "jupyter": {
          "outputs_hidden": true
        },
        "trusted": true,
        "colab": {
          "base_uri": "https://localhost:8080/"
        },
        "id": "72OHHzLQRwc7",
        "outputId": "ef45881f-a164-4ae7-aef9-73230028a83f"
      },
      "execution_count": 83,
      "outputs": [
        {
          "output_type": "execute_result",
          "data": {
            "text/plain": [
              "Angebot    371516\n",
              "Gesuch         12\n",
              "Name: offerType, dtype: int64"
            ]
          },
          "metadata": {},
          "execution_count": 83
        }
      ]
    },
    {
      "cell_type": "markdown",
      "source": [
        "Again second offerType has only 12 entries , we should remove this column "
      ],
      "metadata": {
        "_uuid": "21832af47388ddf9639f3d605d8ea240f0f238f2",
        "id": "VE74djuKRwc8"
      }
    },
    {
      "cell_type": "code",
      "source": [
        "del train_data[\"offerType\"]"
      ],
      "metadata": {
        "_uuid": "b22524537f44c2cea94815bb82dcf6f83c92f5d8",
        "collapsed": true,
        "jupyter": {
          "outputs_hidden": true
        },
        "trusted": true,
        "id": "LgKxbvTVRwc8"
      },
      "execution_count": 84,
      "outputs": []
    },
    {
      "cell_type": "code",
      "source": [
        "train_data.head(3) "
      ],
      "metadata": {
        "_uuid": "a708f64a46e4d565e256ff39c085c23e5f33384a",
        "collapsed": true,
        "jupyter": {
          "outputs_hidden": true
        },
        "trusted": true,
        "colab": {
          "base_uri": "https://localhost:8080/",
          "height": 311
        },
        "id": "7sXpDDavRwc9",
        "outputId": "5d794119-b551-481e-fb1d-1b5b3f478e62"
      },
      "execution_count": 85,
      "outputs": [
        {
          "output_type": "execute_result",
          "data": {
            "text/plain": [
              "           dateCrawled                            name  price abtest  \\\n",
              "0  2016-03-24 11:52:17                      Golf_3_1.6    480   test   \n",
              "1  2016-03-24 10:58:45            A5_Sportback_2.7_Tdi  18300   test   \n",
              "2  2016-03-14 12:52:21  Jeep_Grand_Cherokee_\"Overland\"   9800   test   \n",
              "\n",
              "  vehicleType  yearOfRegistration    gearbox  powerPS  model  kilometer  \\\n",
              "0         NaN                1993    manuell        0   golf     150000   \n",
              "1       coupe                2011    manuell      190    NaN     125000   \n",
              "2         suv                2004  automatik      163  grand     125000   \n",
              "\n",
              "   monthOfRegistration fuelType       brand notRepairedDamage  \\\n",
              "0                    0   benzin  volkswagen               NaN   \n",
              "1                    5   diesel        audi                ja   \n",
              "2                    8   diesel        jeep               NaN   \n",
              "\n",
              "           dateCreated  nrOfPictures  postalCode             lastSeen  \n",
              "0  2016-03-24 00:00:00             0       70435  2016-04-07 03:16:57  \n",
              "1  2016-03-24 00:00:00             0       66954  2016-04-07 01:46:50  \n",
              "2  2016-03-14 00:00:00             0       90480  2016-04-05 12:47:46  "
            ],
            "text/html": [
              "\n",
              "  <div id=\"df-234c710c-a57f-400a-9176-c0832e27955e\">\n",
              "    <div class=\"colab-df-container\">\n",
              "      <div>\n",
              "<style scoped>\n",
              "    .dataframe tbody tr th:only-of-type {\n",
              "        vertical-align: middle;\n",
              "    }\n",
              "\n",
              "    .dataframe tbody tr th {\n",
              "        vertical-align: top;\n",
              "    }\n",
              "\n",
              "    .dataframe thead th {\n",
              "        text-align: right;\n",
              "    }\n",
              "</style>\n",
              "<table border=\"1\" class=\"dataframe\">\n",
              "  <thead>\n",
              "    <tr style=\"text-align: right;\">\n",
              "      <th></th>\n",
              "      <th>dateCrawled</th>\n",
              "      <th>name</th>\n",
              "      <th>price</th>\n",
              "      <th>abtest</th>\n",
              "      <th>vehicleType</th>\n",
              "      <th>yearOfRegistration</th>\n",
              "      <th>gearbox</th>\n",
              "      <th>powerPS</th>\n",
              "      <th>model</th>\n",
              "      <th>kilometer</th>\n",
              "      <th>monthOfRegistration</th>\n",
              "      <th>fuelType</th>\n",
              "      <th>brand</th>\n",
              "      <th>notRepairedDamage</th>\n",
              "      <th>dateCreated</th>\n",
              "      <th>nrOfPictures</th>\n",
              "      <th>postalCode</th>\n",
              "      <th>lastSeen</th>\n",
              "    </tr>\n",
              "  </thead>\n",
              "  <tbody>\n",
              "    <tr>\n",
              "      <th>0</th>\n",
              "      <td>2016-03-24 11:52:17</td>\n",
              "      <td>Golf_3_1.6</td>\n",
              "      <td>480</td>\n",
              "      <td>test</td>\n",
              "      <td>NaN</td>\n",
              "      <td>1993</td>\n",
              "      <td>manuell</td>\n",
              "      <td>0</td>\n",
              "      <td>golf</td>\n",
              "      <td>150000</td>\n",
              "      <td>0</td>\n",
              "      <td>benzin</td>\n",
              "      <td>volkswagen</td>\n",
              "      <td>NaN</td>\n",
              "      <td>2016-03-24 00:00:00</td>\n",
              "      <td>0</td>\n",
              "      <td>70435</td>\n",
              "      <td>2016-04-07 03:16:57</td>\n",
              "    </tr>\n",
              "    <tr>\n",
              "      <th>1</th>\n",
              "      <td>2016-03-24 10:58:45</td>\n",
              "      <td>A5_Sportback_2.7_Tdi</td>\n",
              "      <td>18300</td>\n",
              "      <td>test</td>\n",
              "      <td>coupe</td>\n",
              "      <td>2011</td>\n",
              "      <td>manuell</td>\n",
              "      <td>190</td>\n",
              "      <td>NaN</td>\n",
              "      <td>125000</td>\n",
              "      <td>5</td>\n",
              "      <td>diesel</td>\n",
              "      <td>audi</td>\n",
              "      <td>ja</td>\n",
              "      <td>2016-03-24 00:00:00</td>\n",
              "      <td>0</td>\n",
              "      <td>66954</td>\n",
              "      <td>2016-04-07 01:46:50</td>\n",
              "    </tr>\n",
              "    <tr>\n",
              "      <th>2</th>\n",
              "      <td>2016-03-14 12:52:21</td>\n",
              "      <td>Jeep_Grand_Cherokee_\"Overland\"</td>\n",
              "      <td>9800</td>\n",
              "      <td>test</td>\n",
              "      <td>suv</td>\n",
              "      <td>2004</td>\n",
              "      <td>automatik</td>\n",
              "      <td>163</td>\n",
              "      <td>grand</td>\n",
              "      <td>125000</td>\n",
              "      <td>8</td>\n",
              "      <td>diesel</td>\n",
              "      <td>jeep</td>\n",
              "      <td>NaN</td>\n",
              "      <td>2016-03-14 00:00:00</td>\n",
              "      <td>0</td>\n",
              "      <td>90480</td>\n",
              "      <td>2016-04-05 12:47:46</td>\n",
              "    </tr>\n",
              "  </tbody>\n",
              "</table>\n",
              "</div>\n",
              "      <button class=\"colab-df-convert\" onclick=\"convertToInteractive('df-234c710c-a57f-400a-9176-c0832e27955e')\"\n",
              "              title=\"Convert this dataframe to an interactive table.\"\n",
              "              style=\"display:none;\">\n",
              "        \n",
              "  <svg xmlns=\"http://www.w3.org/2000/svg\" height=\"24px\"viewBox=\"0 0 24 24\"\n",
              "       width=\"24px\">\n",
              "    <path d=\"M0 0h24v24H0V0z\" fill=\"none\"/>\n",
              "    <path d=\"M18.56 5.44l.94 2.06.94-2.06 2.06-.94-2.06-.94-.94-2.06-.94 2.06-2.06.94zm-11 1L8.5 8.5l.94-2.06 2.06-.94-2.06-.94L8.5 2.5l-.94 2.06-2.06.94zm10 10l.94 2.06.94-2.06 2.06-.94-2.06-.94-.94-2.06-.94 2.06-2.06.94z\"/><path d=\"M17.41 7.96l-1.37-1.37c-.4-.4-.92-.59-1.43-.59-.52 0-1.04.2-1.43.59L10.3 9.45l-7.72 7.72c-.78.78-.78 2.05 0 2.83L4 21.41c.39.39.9.59 1.41.59.51 0 1.02-.2 1.41-.59l7.78-7.78 2.81-2.81c.8-.78.8-2.07 0-2.86zM5.41 20L4 18.59l7.72-7.72 1.47 1.35L5.41 20z\"/>\n",
              "  </svg>\n",
              "      </button>\n",
              "      \n",
              "  <style>\n",
              "    .colab-df-container {\n",
              "      display:flex;\n",
              "      flex-wrap:wrap;\n",
              "      gap: 12px;\n",
              "    }\n",
              "\n",
              "    .colab-df-convert {\n",
              "      background-color: #E8F0FE;\n",
              "      border: none;\n",
              "      border-radius: 50%;\n",
              "      cursor: pointer;\n",
              "      display: none;\n",
              "      fill: #1967D2;\n",
              "      height: 32px;\n",
              "      padding: 0 0 0 0;\n",
              "      width: 32px;\n",
              "    }\n",
              "\n",
              "    .colab-df-convert:hover {\n",
              "      background-color: #E2EBFA;\n",
              "      box-shadow: 0px 1px 2px rgba(60, 64, 67, 0.3), 0px 1px 3px 1px rgba(60, 64, 67, 0.15);\n",
              "      fill: #174EA6;\n",
              "    }\n",
              "\n",
              "    [theme=dark] .colab-df-convert {\n",
              "      background-color: #3B4455;\n",
              "      fill: #D2E3FC;\n",
              "    }\n",
              "\n",
              "    [theme=dark] .colab-df-convert:hover {\n",
              "      background-color: #434B5C;\n",
              "      box-shadow: 0px 1px 3px 1px rgba(0, 0, 0, 0.15);\n",
              "      filter: drop-shadow(0px 1px 2px rgba(0, 0, 0, 0.3));\n",
              "      fill: #FFFFFF;\n",
              "    }\n",
              "  </style>\n",
              "\n",
              "      <script>\n",
              "        const buttonEl =\n",
              "          document.querySelector('#df-234c710c-a57f-400a-9176-c0832e27955e button.colab-df-convert');\n",
              "        buttonEl.style.display =\n",
              "          google.colab.kernel.accessAllowed ? 'block' : 'none';\n",
              "\n",
              "        async function convertToInteractive(key) {\n",
              "          const element = document.querySelector('#df-234c710c-a57f-400a-9176-c0832e27955e');\n",
              "          const dataTable =\n",
              "            await google.colab.kernel.invokeFunction('convertToInteractive',\n",
              "                                                     [key], {});\n",
              "          if (!dataTable) return;\n",
              "\n",
              "          const docLinkHtml = 'Like what you see? Visit the ' +\n",
              "            '<a target=\"_blank\" href=https://colab.research.google.com/notebooks/data_table.ipynb>data table notebook</a>'\n",
              "            + ' to learn more about interactive tables.';\n",
              "          element.innerHTML = '';\n",
              "          dataTable['output_type'] = 'display_data';\n",
              "          await google.colab.output.renderOutput(dataTable, element);\n",
              "          const docLink = document.createElement('div');\n",
              "          docLink.innerHTML = docLinkHtml;\n",
              "          element.appendChild(docLink);\n",
              "        }\n",
              "      </script>\n",
              "    </div>\n",
              "  </div>\n",
              "  "
            ]
          },
          "metadata": {},
          "execution_count": 85
        }
      ]
    },
    {
      "cell_type": "markdown",
      "source": [
        "**Look at the nrOfPictures column**"
      ],
      "metadata": {
        "_uuid": "8397e4d89367a6a8fcadf252f10316ee5abdec56",
        "id": "nSFaniJSRwc-"
      }
    },
    {
      "cell_type": "code",
      "source": [
        "train_data[\"nrOfPictures\"].value_counts()"
      ],
      "metadata": {
        "_uuid": "df2d5d581fdfc7d51fb27d316cd8a2b26b2de64a",
        "collapsed": true,
        "jupyter": {
          "outputs_hidden": true
        },
        "trusted": true,
        "colab": {
          "base_uri": "https://localhost:8080/"
        },
        "id": "0L-c9TGbRwc-",
        "outputId": "ba5fc4d0-5442-4196-9ad2-5fca4eec5a55"
      },
      "execution_count": 86,
      "outputs": [
        {
          "output_type": "execute_result",
          "data": {
            "text/plain": [
              "0    371528\n",
              "Name: nrOfPictures, dtype: int64"
            ]
          },
          "metadata": {},
          "execution_count": 86
        }
      ]
    },
    {
      "cell_type": "markdown",
      "source": [
        "this column only take one value i.e., 0 , so i think there is no advantage of consider this column in our dataset"
      ],
      "metadata": {
        "_uuid": "b8928cd61dcc1a4dab8661debdf9da071b939d2a",
        "id": "3aSKqU6SRwc_"
      }
    },
    {
      "cell_type": "code",
      "source": [
        "del train_data[\"nrOfPictures\"]"
      ],
      "metadata": {
        "_uuid": "afcbdadada7cd31c9d8c896dcbb3320eec189d36",
        "collapsed": true,
        "jupyter": {
          "outputs_hidden": true
        },
        "trusted": true,
        "id": "YrsJLHA_Rwc_"
      },
      "execution_count": 87,
      "outputs": []
    },
    {
      "cell_type": "markdown",
      "source": [
        "## Look at the abtest column"
      ],
      "metadata": {
        "_uuid": "92a519194eb784c3402b9e5bc76be5237aeb81aa",
        "id": "MZVhc-u1RwdA"
      }
    },
    {
      "cell_type": "code",
      "source": [
        "train_data[\"abtest\"].value_counts()"
      ],
      "metadata": {
        "_uuid": "63e1a9da36530ae8387fa229a9b9e460ef9c2cf8",
        "collapsed": true,
        "jupyter": {
          "outputs_hidden": true
        },
        "trusted": true,
        "colab": {
          "base_uri": "https://localhost:8080/"
        },
        "id": "4NNplZsLRwdA",
        "outputId": "ddb0c64c-859b-4234-c37d-f1567abd7045"
      },
      "execution_count": 88,
      "outputs": [
        {
          "output_type": "execute_result",
          "data": {
            "text/plain": [
              "test       192585\n",
              "control    178943\n",
              "Name: abtest, dtype: int64"
            ]
          },
          "metadata": {},
          "execution_count": 88
        }
      ]
    },
    {
      "cell_type": "markdown",
      "source": [
        "Both values are popular , we should keep this column"
      ],
      "metadata": {
        "_uuid": "7d1f460b847a25bbf424d520e4809a7585359ce6",
        "id": "1LMNIGgeRwdB"
      }
    },
    {
      "cell_type": "markdown",
      "source": [
        "## Let's inspect the date features"
      ],
      "metadata": {
        "_uuid": "2f0d867b3bc5ae96b288ec37472106d743942278",
        "id": "gh8Xc-8vRwdC"
      }
    },
    {
      "cell_type": "code",
      "source": [
        "train_data[ [\"dateCrawled\",\"dateCreated\",\"lastSeen\"] ].head()"
      ],
      "metadata": {
        "_uuid": "ab2beb93561102086db1c44ab39f165a3cac8870",
        "collapsed": true,
        "jupyter": {
          "outputs_hidden": true
        },
        "trusted": true,
        "colab": {
          "base_uri": "https://localhost:8080/",
          "height": 206
        },
        "id": "LVjXt-mBRwdC",
        "outputId": "550b7963-3893-4cad-b736-919afb7a7465"
      },
      "execution_count": 89,
      "outputs": [
        {
          "output_type": "execute_result",
          "data": {
            "text/plain": [
              "           dateCrawled          dateCreated             lastSeen\n",
              "0  2016-03-24 11:52:17  2016-03-24 00:00:00  2016-04-07 03:16:57\n",
              "1  2016-03-24 10:58:45  2016-03-24 00:00:00  2016-04-07 01:46:50\n",
              "2  2016-03-14 12:52:21  2016-03-14 00:00:00  2016-04-05 12:47:46\n",
              "3  2016-03-17 16:54:04  2016-03-17 00:00:00  2016-03-17 17:40:17\n",
              "4  2016-03-31 17:25:20  2016-03-31 00:00:00  2016-04-06 10:17:21"
            ],
            "text/html": [
              "\n",
              "  <div id=\"df-b3e88212-284c-44a5-b711-ec2aabb63fd9\">\n",
              "    <div class=\"colab-df-container\">\n",
              "      <div>\n",
              "<style scoped>\n",
              "    .dataframe tbody tr th:only-of-type {\n",
              "        vertical-align: middle;\n",
              "    }\n",
              "\n",
              "    .dataframe tbody tr th {\n",
              "        vertical-align: top;\n",
              "    }\n",
              "\n",
              "    .dataframe thead th {\n",
              "        text-align: right;\n",
              "    }\n",
              "</style>\n",
              "<table border=\"1\" class=\"dataframe\">\n",
              "  <thead>\n",
              "    <tr style=\"text-align: right;\">\n",
              "      <th></th>\n",
              "      <th>dateCrawled</th>\n",
              "      <th>dateCreated</th>\n",
              "      <th>lastSeen</th>\n",
              "    </tr>\n",
              "  </thead>\n",
              "  <tbody>\n",
              "    <tr>\n",
              "      <th>0</th>\n",
              "      <td>2016-03-24 11:52:17</td>\n",
              "      <td>2016-03-24 00:00:00</td>\n",
              "      <td>2016-04-07 03:16:57</td>\n",
              "    </tr>\n",
              "    <tr>\n",
              "      <th>1</th>\n",
              "      <td>2016-03-24 10:58:45</td>\n",
              "      <td>2016-03-24 00:00:00</td>\n",
              "      <td>2016-04-07 01:46:50</td>\n",
              "    </tr>\n",
              "    <tr>\n",
              "      <th>2</th>\n",
              "      <td>2016-03-14 12:52:21</td>\n",
              "      <td>2016-03-14 00:00:00</td>\n",
              "      <td>2016-04-05 12:47:46</td>\n",
              "    </tr>\n",
              "    <tr>\n",
              "      <th>3</th>\n",
              "      <td>2016-03-17 16:54:04</td>\n",
              "      <td>2016-03-17 00:00:00</td>\n",
              "      <td>2016-03-17 17:40:17</td>\n",
              "    </tr>\n",
              "    <tr>\n",
              "      <th>4</th>\n",
              "      <td>2016-03-31 17:25:20</td>\n",
              "      <td>2016-03-31 00:00:00</td>\n",
              "      <td>2016-04-06 10:17:21</td>\n",
              "    </tr>\n",
              "  </tbody>\n",
              "</table>\n",
              "</div>\n",
              "      <button class=\"colab-df-convert\" onclick=\"convertToInteractive('df-b3e88212-284c-44a5-b711-ec2aabb63fd9')\"\n",
              "              title=\"Convert this dataframe to an interactive table.\"\n",
              "              style=\"display:none;\">\n",
              "        \n",
              "  <svg xmlns=\"http://www.w3.org/2000/svg\" height=\"24px\"viewBox=\"0 0 24 24\"\n",
              "       width=\"24px\">\n",
              "    <path d=\"M0 0h24v24H0V0z\" fill=\"none\"/>\n",
              "    <path d=\"M18.56 5.44l.94 2.06.94-2.06 2.06-.94-2.06-.94-.94-2.06-.94 2.06-2.06.94zm-11 1L8.5 8.5l.94-2.06 2.06-.94-2.06-.94L8.5 2.5l-.94 2.06-2.06.94zm10 10l.94 2.06.94-2.06 2.06-.94-2.06-.94-.94-2.06-.94 2.06-2.06.94z\"/><path d=\"M17.41 7.96l-1.37-1.37c-.4-.4-.92-.59-1.43-.59-.52 0-1.04.2-1.43.59L10.3 9.45l-7.72 7.72c-.78.78-.78 2.05 0 2.83L4 21.41c.39.39.9.59 1.41.59.51 0 1.02-.2 1.41-.59l7.78-7.78 2.81-2.81c.8-.78.8-2.07 0-2.86zM5.41 20L4 18.59l7.72-7.72 1.47 1.35L5.41 20z\"/>\n",
              "  </svg>\n",
              "      </button>\n",
              "      \n",
              "  <style>\n",
              "    .colab-df-container {\n",
              "      display:flex;\n",
              "      flex-wrap:wrap;\n",
              "      gap: 12px;\n",
              "    }\n",
              "\n",
              "    .colab-df-convert {\n",
              "      background-color: #E8F0FE;\n",
              "      border: none;\n",
              "      border-radius: 50%;\n",
              "      cursor: pointer;\n",
              "      display: none;\n",
              "      fill: #1967D2;\n",
              "      height: 32px;\n",
              "      padding: 0 0 0 0;\n",
              "      width: 32px;\n",
              "    }\n",
              "\n",
              "    .colab-df-convert:hover {\n",
              "      background-color: #E2EBFA;\n",
              "      box-shadow: 0px 1px 2px rgba(60, 64, 67, 0.3), 0px 1px 3px 1px rgba(60, 64, 67, 0.15);\n",
              "      fill: #174EA6;\n",
              "    }\n",
              "\n",
              "    [theme=dark] .colab-df-convert {\n",
              "      background-color: #3B4455;\n",
              "      fill: #D2E3FC;\n",
              "    }\n",
              "\n",
              "    [theme=dark] .colab-df-convert:hover {\n",
              "      background-color: #434B5C;\n",
              "      box-shadow: 0px 1px 3px 1px rgba(0, 0, 0, 0.15);\n",
              "      filter: drop-shadow(0px 1px 2px rgba(0, 0, 0, 0.3));\n",
              "      fill: #FFFFFF;\n",
              "    }\n",
              "  </style>\n",
              "\n",
              "      <script>\n",
              "        const buttonEl =\n",
              "          document.querySelector('#df-b3e88212-284c-44a5-b711-ec2aabb63fd9 button.colab-df-convert');\n",
              "        buttonEl.style.display =\n",
              "          google.colab.kernel.accessAllowed ? 'block' : 'none';\n",
              "\n",
              "        async function convertToInteractive(key) {\n",
              "          const element = document.querySelector('#df-b3e88212-284c-44a5-b711-ec2aabb63fd9');\n",
              "          const dataTable =\n",
              "            await google.colab.kernel.invokeFunction('convertToInteractive',\n",
              "                                                     [key], {});\n",
              "          if (!dataTable) return;\n",
              "\n",
              "          const docLinkHtml = 'Like what you see? Visit the ' +\n",
              "            '<a target=\"_blank\" href=https://colab.research.google.com/notebooks/data_table.ipynb>data table notebook</a>'\n",
              "            + ' to learn more about interactive tables.';\n",
              "          element.innerHTML = '';\n",
              "          dataTable['output_type'] = 'display_data';\n",
              "          await google.colab.output.renderOutput(dataTable, element);\n",
              "          const docLink = document.createElement('div');\n",
              "          docLink.innerHTML = docLinkHtml;\n",
              "          element.appendChild(docLink);\n",
              "        }\n",
              "      </script>\n",
              "    </div>\n",
              "  </div>\n",
              "  "
            ]
          },
          "metadata": {},
          "execution_count": 89
        }
      ]
    },
    {
      "cell_type": "markdown",
      "source": [
        "These dates basically represent when was the ads crawled , or time of lastseen of these ads , we will not able to collect much information from these dates so it's better to remove them"
      ],
      "metadata": {
        "_uuid": "048ae6e1b07485d8246134923f3027d030aa60c9",
        "id": "i9o_IxbvRwdD"
      }
    },
    {
      "cell_type": "code",
      "source": [
        "train_data = train_data.drop([\"dateCrawled\",\"dateCreated\",\"lastSeen\"] , axis=1 )"
      ],
      "metadata": {
        "_uuid": "5514e588f026eed2aa19a326b8b600343df983a0",
        "collapsed": true,
        "jupyter": {
          "outputs_hidden": true
        },
        "trusted": true,
        "id": "WyhebduBRwdD"
      },
      "execution_count": 90,
      "outputs": []
    },
    {
      "cell_type": "code",
      "source": [
        "train_data.head()"
      ],
      "metadata": {
        "_uuid": "ffccece92e73a16ff51527506ae85914f119eccc",
        "collapsed": true,
        "jupyter": {
          "outputs_hidden": true
        },
        "trusted": true,
        "colab": {
          "base_uri": "https://localhost:8080/",
          "height": 270
        },
        "id": "NbDtUim8RwdD",
        "outputId": "fbefe849-72e4-44e2-ebaa-e1806d6c8daa"
      },
      "execution_count": 91,
      "outputs": [
        {
          "output_type": "execute_result",
          "data": {
            "text/plain": [
              "                             name  price abtest vehicleType  \\\n",
              "0                      Golf_3_1.6    480   test         NaN   \n",
              "1            A5_Sportback_2.7_Tdi  18300   test       coupe   \n",
              "2  Jeep_Grand_Cherokee_\"Overland\"   9800   test         suv   \n",
              "3              GOLF_4_1_4__3TÜRER   1500   test  kleinwagen   \n",
              "4  Skoda_Fabia_1.4_TDI_PD_Classic   3600   test  kleinwagen   \n",
              "\n",
              "   yearOfRegistration    gearbox  powerPS  model  kilometer  \\\n",
              "0                1993    manuell        0   golf     150000   \n",
              "1                2011    manuell      190    NaN     125000   \n",
              "2                2004  automatik      163  grand     125000   \n",
              "3                2001    manuell       75   golf     150000   \n",
              "4                2008    manuell       69  fabia      90000   \n",
              "\n",
              "   monthOfRegistration fuelType       brand notRepairedDamage  postalCode  \n",
              "0                    0   benzin  volkswagen               NaN       70435  \n",
              "1                    5   diesel        audi                ja       66954  \n",
              "2                    8   diesel        jeep               NaN       90480  \n",
              "3                    6   benzin  volkswagen              nein       91074  \n",
              "4                    7   diesel       skoda              nein       60437  "
            ],
            "text/html": [
              "\n",
              "  <div id=\"df-4e7f194a-1b36-43a5-ab86-20294a93a762\">\n",
              "    <div class=\"colab-df-container\">\n",
              "      <div>\n",
              "<style scoped>\n",
              "    .dataframe tbody tr th:only-of-type {\n",
              "        vertical-align: middle;\n",
              "    }\n",
              "\n",
              "    .dataframe tbody tr th {\n",
              "        vertical-align: top;\n",
              "    }\n",
              "\n",
              "    .dataframe thead th {\n",
              "        text-align: right;\n",
              "    }\n",
              "</style>\n",
              "<table border=\"1\" class=\"dataframe\">\n",
              "  <thead>\n",
              "    <tr style=\"text-align: right;\">\n",
              "      <th></th>\n",
              "      <th>name</th>\n",
              "      <th>price</th>\n",
              "      <th>abtest</th>\n",
              "      <th>vehicleType</th>\n",
              "      <th>yearOfRegistration</th>\n",
              "      <th>gearbox</th>\n",
              "      <th>powerPS</th>\n",
              "      <th>model</th>\n",
              "      <th>kilometer</th>\n",
              "      <th>monthOfRegistration</th>\n",
              "      <th>fuelType</th>\n",
              "      <th>brand</th>\n",
              "      <th>notRepairedDamage</th>\n",
              "      <th>postalCode</th>\n",
              "    </tr>\n",
              "  </thead>\n",
              "  <tbody>\n",
              "    <tr>\n",
              "      <th>0</th>\n",
              "      <td>Golf_3_1.6</td>\n",
              "      <td>480</td>\n",
              "      <td>test</td>\n",
              "      <td>NaN</td>\n",
              "      <td>1993</td>\n",
              "      <td>manuell</td>\n",
              "      <td>0</td>\n",
              "      <td>golf</td>\n",
              "      <td>150000</td>\n",
              "      <td>0</td>\n",
              "      <td>benzin</td>\n",
              "      <td>volkswagen</td>\n",
              "      <td>NaN</td>\n",
              "      <td>70435</td>\n",
              "    </tr>\n",
              "    <tr>\n",
              "      <th>1</th>\n",
              "      <td>A5_Sportback_2.7_Tdi</td>\n",
              "      <td>18300</td>\n",
              "      <td>test</td>\n",
              "      <td>coupe</td>\n",
              "      <td>2011</td>\n",
              "      <td>manuell</td>\n",
              "      <td>190</td>\n",
              "      <td>NaN</td>\n",
              "      <td>125000</td>\n",
              "      <td>5</td>\n",
              "      <td>diesel</td>\n",
              "      <td>audi</td>\n",
              "      <td>ja</td>\n",
              "      <td>66954</td>\n",
              "    </tr>\n",
              "    <tr>\n",
              "      <th>2</th>\n",
              "      <td>Jeep_Grand_Cherokee_\"Overland\"</td>\n",
              "      <td>9800</td>\n",
              "      <td>test</td>\n",
              "      <td>suv</td>\n",
              "      <td>2004</td>\n",
              "      <td>automatik</td>\n",
              "      <td>163</td>\n",
              "      <td>grand</td>\n",
              "      <td>125000</td>\n",
              "      <td>8</td>\n",
              "      <td>diesel</td>\n",
              "      <td>jeep</td>\n",
              "      <td>NaN</td>\n",
              "      <td>90480</td>\n",
              "    </tr>\n",
              "    <tr>\n",
              "      <th>3</th>\n",
              "      <td>GOLF_4_1_4__3TÜRER</td>\n",
              "      <td>1500</td>\n",
              "      <td>test</td>\n",
              "      <td>kleinwagen</td>\n",
              "      <td>2001</td>\n",
              "      <td>manuell</td>\n",
              "      <td>75</td>\n",
              "      <td>golf</td>\n",
              "      <td>150000</td>\n",
              "      <td>6</td>\n",
              "      <td>benzin</td>\n",
              "      <td>volkswagen</td>\n",
              "      <td>nein</td>\n",
              "      <td>91074</td>\n",
              "    </tr>\n",
              "    <tr>\n",
              "      <th>4</th>\n",
              "      <td>Skoda_Fabia_1.4_TDI_PD_Classic</td>\n",
              "      <td>3600</td>\n",
              "      <td>test</td>\n",
              "      <td>kleinwagen</td>\n",
              "      <td>2008</td>\n",
              "      <td>manuell</td>\n",
              "      <td>69</td>\n",
              "      <td>fabia</td>\n",
              "      <td>90000</td>\n",
              "      <td>7</td>\n",
              "      <td>diesel</td>\n",
              "      <td>skoda</td>\n",
              "      <td>nein</td>\n",
              "      <td>60437</td>\n",
              "    </tr>\n",
              "  </tbody>\n",
              "</table>\n",
              "</div>\n",
              "      <button class=\"colab-df-convert\" onclick=\"convertToInteractive('df-4e7f194a-1b36-43a5-ab86-20294a93a762')\"\n",
              "              title=\"Convert this dataframe to an interactive table.\"\n",
              "              style=\"display:none;\">\n",
              "        \n",
              "  <svg xmlns=\"http://www.w3.org/2000/svg\" height=\"24px\"viewBox=\"0 0 24 24\"\n",
              "       width=\"24px\">\n",
              "    <path d=\"M0 0h24v24H0V0z\" fill=\"none\"/>\n",
              "    <path d=\"M18.56 5.44l.94 2.06.94-2.06 2.06-.94-2.06-.94-.94-2.06-.94 2.06-2.06.94zm-11 1L8.5 8.5l.94-2.06 2.06-.94-2.06-.94L8.5 2.5l-.94 2.06-2.06.94zm10 10l.94 2.06.94-2.06 2.06-.94-2.06-.94-.94-2.06-.94 2.06-2.06.94z\"/><path d=\"M17.41 7.96l-1.37-1.37c-.4-.4-.92-.59-1.43-.59-.52 0-1.04.2-1.43.59L10.3 9.45l-7.72 7.72c-.78.78-.78 2.05 0 2.83L4 21.41c.39.39.9.59 1.41.59.51 0 1.02-.2 1.41-.59l7.78-7.78 2.81-2.81c.8-.78.8-2.07 0-2.86zM5.41 20L4 18.59l7.72-7.72 1.47 1.35L5.41 20z\"/>\n",
              "  </svg>\n",
              "      </button>\n",
              "      \n",
              "  <style>\n",
              "    .colab-df-container {\n",
              "      display:flex;\n",
              "      flex-wrap:wrap;\n",
              "      gap: 12px;\n",
              "    }\n",
              "\n",
              "    .colab-df-convert {\n",
              "      background-color: #E8F0FE;\n",
              "      border: none;\n",
              "      border-radius: 50%;\n",
              "      cursor: pointer;\n",
              "      display: none;\n",
              "      fill: #1967D2;\n",
              "      height: 32px;\n",
              "      padding: 0 0 0 0;\n",
              "      width: 32px;\n",
              "    }\n",
              "\n",
              "    .colab-df-convert:hover {\n",
              "      background-color: #E2EBFA;\n",
              "      box-shadow: 0px 1px 2px rgba(60, 64, 67, 0.3), 0px 1px 3px 1px rgba(60, 64, 67, 0.15);\n",
              "      fill: #174EA6;\n",
              "    }\n",
              "\n",
              "    [theme=dark] .colab-df-convert {\n",
              "      background-color: #3B4455;\n",
              "      fill: #D2E3FC;\n",
              "    }\n",
              "\n",
              "    [theme=dark] .colab-df-convert:hover {\n",
              "      background-color: #434B5C;\n",
              "      box-shadow: 0px 1px 3px 1px rgba(0, 0, 0, 0.15);\n",
              "      filter: drop-shadow(0px 1px 2px rgba(0, 0, 0, 0.3));\n",
              "      fill: #FFFFFF;\n",
              "    }\n",
              "  </style>\n",
              "\n",
              "      <script>\n",
              "        const buttonEl =\n",
              "          document.querySelector('#df-4e7f194a-1b36-43a5-ab86-20294a93a762 button.colab-df-convert');\n",
              "        buttonEl.style.display =\n",
              "          google.colab.kernel.accessAllowed ? 'block' : 'none';\n",
              "\n",
              "        async function convertToInteractive(key) {\n",
              "          const element = document.querySelector('#df-4e7f194a-1b36-43a5-ab86-20294a93a762');\n",
              "          const dataTable =\n",
              "            await google.colab.kernel.invokeFunction('convertToInteractive',\n",
              "                                                     [key], {});\n",
              "          if (!dataTable) return;\n",
              "\n",
              "          const docLinkHtml = 'Like what you see? Visit the ' +\n",
              "            '<a target=\"_blank\" href=https://colab.research.google.com/notebooks/data_table.ipynb>data table notebook</a>'\n",
              "            + ' to learn more about interactive tables.';\n",
              "          element.innerHTML = '';\n",
              "          dataTable['output_type'] = 'display_data';\n",
              "          await google.colab.output.renderOutput(dataTable, element);\n",
              "          const docLink = document.createElement('div');\n",
              "          docLink.innerHTML = docLinkHtml;\n",
              "          element.appendChild(docLink);\n",
              "        }\n",
              "      </script>\n",
              "    </div>\n",
              "  </div>\n",
              "  "
            ]
          },
          "metadata": {},
          "execution_count": 91
        }
      ]
    },
    {
      "cell_type": "markdown",
      "source": [
        "## Come to the name column"
      ],
      "metadata": {
        "_uuid": "f9e5625803294d464635a6457b1192433ed003b3",
        "id": "pY-fFTq5RwdE"
      }
    },
    {
      "cell_type": "code",
      "source": [
        "train_data[\"name\"].head()"
      ],
      "metadata": {
        "_uuid": "df49140d8961a4e23ae5d35b8a76972ae71daf72",
        "collapsed": true,
        "jupyter": {
          "outputs_hidden": true
        },
        "trusted": true,
        "colab": {
          "base_uri": "https://localhost:8080/"
        },
        "id": "LPALDFaiRwdE",
        "outputId": "db704588-a256-4e84-b241-183612f0acf3"
      },
      "execution_count": 92,
      "outputs": [
        {
          "output_type": "execute_result",
          "data": {
            "text/plain": [
              "0                        Golf_3_1.6\n",
              "1              A5_Sportback_2.7_Tdi\n",
              "2    Jeep_Grand_Cherokee_\"Overland\"\n",
              "3                GOLF_4_1_4__3TÜRER\n",
              "4    Skoda_Fabia_1.4_TDI_PD_Classic\n",
              "Name: name, dtype: object"
            ]
          },
          "metadata": {},
          "execution_count": 92
        }
      ]
    },
    {
      "cell_type": "markdown",
      "source": [
        "name only represent the name of the car which is useless here"
      ],
      "metadata": {
        "_uuid": "b581562036705dda998bd1cca660055e764289cf",
        "id": "OGfrJQVhRwdF"
      }
    },
    {
      "cell_type": "code",
      "source": [
        "del train_data[\"name\"]"
      ],
      "metadata": {
        "_uuid": "ce023e891995bb13e63c377987c3c2ee16256317",
        "collapsed": true,
        "jupyter": {
          "outputs_hidden": true
        },
        "trusted": true,
        "id": "7xS7wO1cRwdF"
      },
      "execution_count": 93,
      "outputs": []
    },
    {
      "cell_type": "code",
      "source": [
        "train_data.isnull().sum()"
      ],
      "metadata": {
        "_uuid": "72e10f8104df43a0cbe4431c833263dd3e5cf8fc",
        "collapsed": true,
        "jupyter": {
          "outputs_hidden": true
        },
        "trusted": true,
        "colab": {
          "base_uri": "https://localhost:8080/"
        },
        "id": "cIgCXo2vRwdH",
        "outputId": "fdcd88af-1f09-4784-8e98-e355c995c72c"
      },
      "execution_count": 94,
      "outputs": [
        {
          "output_type": "execute_result",
          "data": {
            "text/plain": [
              "price                      0\n",
              "abtest                     0\n",
              "vehicleType            37869\n",
              "yearOfRegistration         0\n",
              "gearbox                20209\n",
              "powerPS                    0\n",
              "model                  20484\n",
              "kilometer                  0\n",
              "monthOfRegistration        0\n",
              "fuelType               33386\n",
              "brand                      0\n",
              "notRepairedDamage      72060\n",
              "postalCode                 0\n",
              "dtype: int64"
            ]
          },
          "metadata": {},
          "execution_count": 94
        }
      ]
    },
    {
      "cell_type": "markdown",
      "source": [
        "## Now It's time to fill the NaN in columns \n",
        "## 1) gearbox\n",
        "## 2) notRepairedDamage\n",
        "## 3) fuelType\n",
        "## 4) VehicleType\n",
        "## 5) Model"
      ],
      "metadata": {
        "_uuid": "80352c9b208320307b036db07717f9a3995696d4",
        "id": "jfzwd1zwRwdH"
      }
    },
    {
      "cell_type": "code",
      "source": [
        "train_data[\"gearbox\"].value_counts()"
      ],
      "metadata": {
        "_uuid": "f51ca09d335e0b9efc59e872f0d82c73aa002643",
        "collapsed": true,
        "jupyter": {
          "outputs_hidden": true
        },
        "trusted": true,
        "colab": {
          "base_uri": "https://localhost:8080/"
        },
        "id": "cROIXvlZRwdI",
        "outputId": "6bddf5cb-f068-49ad-e706-0f9ce6b0bd47"
      },
      "execution_count": 95,
      "outputs": [
        {
          "output_type": "execute_result",
          "data": {
            "text/plain": [
              "manuell      274214\n",
              "automatik     77105\n",
              "Name: gearbox, dtype: int64"
            ]
          },
          "metadata": {},
          "execution_count": 95
        }
      ]
    },
    {
      "cell_type": "markdown",
      "source": [
        "There are two types of gearbox but frequency of manuell is higher than automatik but we cannot fill nan values with maxFreq value , so let's see how can we fill it"
      ],
      "metadata": {
        "_uuid": "b63de728bbd09640119dd978f00909fa2afbb578",
        "id": "HfMazGUsRwdI"
      }
    },
    {
      "cell_type": "code",
      "source": [
        "# we can see brand column has no nans\n",
        "train_data[\"brand\"].isnull().sum()"
      ],
      "metadata": {
        "_uuid": "1af1561b7aa43c9e76e0a10d04a8a1d0eda48437",
        "collapsed": true,
        "jupyter": {
          "outputs_hidden": true
        },
        "trusted": true,
        "colab": {
          "base_uri": "https://localhost:8080/"
        },
        "id": "RTbWyO0TRwdJ",
        "outputId": "d60ba294-9183-4dab-c4a8-6b218e05c7ef"
      },
      "execution_count": 96,
      "outputs": [
        {
          "output_type": "execute_result",
          "data": {
            "text/plain": [
              "0"
            ]
          },
          "metadata": {},
          "execution_count": 96
        }
      ]
    },
    {
      "cell_type": "code",
      "source": [
        "#so we will use brand column to fill gearbox values\n",
        "train_data.groupby(\"brand\")[\"gearbox\"].value_counts()"
      ],
      "metadata": {
        "_uuid": "7f2354c20012c6699b1ba6c285158fabc01e8e49",
        "collapsed": true,
        "jupyter": {
          "outputs_hidden": true
        },
        "trusted": true,
        "colab": {
          "base_uri": "https://localhost:8080/"
        },
        "id": "Qk9hlm6lRwdJ",
        "outputId": "fc56e739-15ff-46af-9b9a-036f20431045"
      },
      "execution_count": 97,
      "outputs": [
        {
          "output_type": "execute_result",
          "data": {
            "text/plain": [
              "brand       gearbox  \n",
              "alfa_romeo  manuell       2064\n",
              "            automatik      146\n",
              "audi        manuell      20841\n",
              "            automatik    10698\n",
              "bmw         manuell      25323\n",
              "                         ...  \n",
              "trabant     automatik        2\n",
              "volkswagen  manuell      64655\n",
              "            automatik    10264\n",
              "volvo       manuell       2217\n",
              "            automatik      991\n",
              "Name: gearbox, Length: 80, dtype: int64"
            ]
          },
          "metadata": {},
          "execution_count": 97
        }
      ]
    },
    {
      "cell_type": "code",
      "source": [
        "gearbox = train_data[\"gearbox\"].unique()\n",
        "brand = train_data[\"brand\"].unique()\n",
        "d = {}\n",
        "\n",
        "for i in brand :\n",
        "    m = 0\n",
        "    for j in gearbox :\n",
        "        if train_data[(train_data.gearbox == j) & (train_data.brand == i)].shape[0] > m :\n",
        "            m = train_data[(train_data.gearbox == j) & (train_data.brand == i)].shape[0]\n",
        "            d[i] = j\n",
        "        "
      ],
      "metadata": {
        "_uuid": "f55f743a3c0a5d090fbe7ed2d40bd562b6204e3c",
        "collapsed": true,
        "jupyter": {
          "outputs_hidden": true
        },
        "trusted": true,
        "id": "fnYE4aSFRwdK"
      },
      "execution_count": 98,
      "outputs": []
    },
    {
      "cell_type": "code",
      "source": [
        "for i in brand :\n",
        "    train_data.loc[(train_data.brand == i) & (train_data.gearbox.isnull()) ,\"gearbox\" ] = d[i]\n"
      ],
      "metadata": {
        "_uuid": "1a9be056fb6327e2e212fd66063c4171daef99d7",
        "collapsed": true,
        "jupyter": {
          "outputs_hidden": true
        },
        "trusted": true,
        "id": "VrXD82-YRwdL"
      },
      "execution_count": 99,
      "outputs": []
    },
    {
      "cell_type": "code",
      "source": [
        "# no nans in gearbox\n",
        "train_data[\"gearbox\"].isnull().sum()"
      ],
      "metadata": {
        "_uuid": "2e299465e7ad22f90680d242e0277c04ea927e9c",
        "collapsed": true,
        "jupyter": {
          "outputs_hidden": true
        },
        "trusted": true,
        "colab": {
          "base_uri": "https://localhost:8080/"
        },
        "id": "KPJLvGAbRwdL",
        "outputId": "a95f6a2c-d5d1-4fc5-843b-d1420d7e2a84"
      },
      "execution_count": 100,
      "outputs": [
        {
          "output_type": "execute_result",
          "data": {
            "text/plain": [
              "0"
            ]
          },
          "metadata": {},
          "execution_count": 100
        }
      ]
    },
    {
      "cell_type": "markdown",
      "source": [
        "## let's look at the notRepairedDamage"
      ],
      "metadata": {
        "_uuid": "41c97740bd8663c46c89aade2519626e17269253",
        "id": "8oUwZL39RwdM"
      }
    },
    {
      "cell_type": "code",
      "source": [
        "train_data[\"notRepairedDamage\"].value_counts()"
      ],
      "metadata": {
        "_uuid": "8f71569b02d3b333a8375c5ae8e54cbcd58856db",
        "collapsed": true,
        "jupyter": {
          "outputs_hidden": true
        },
        "trusted": true,
        "colab": {
          "base_uri": "https://localhost:8080/"
        },
        "id": "lsvo0qhzRwdM",
        "outputId": "217ce751-4112-4412-8200-d9eddef9b59f"
      },
      "execution_count": 101,
      "outputs": [
        {
          "output_type": "execute_result",
          "data": {
            "text/plain": [
              "nein    263182\n",
              "ja       36286\n",
              "Name: notRepairedDamage, dtype: int64"
            ]
          },
          "metadata": {},
          "execution_count": 101
        }
      ]
    },
    {
      "cell_type": "code",
      "source": [
        "train_data[\"notRepairedDamage\"].isnull().sum()"
      ],
      "metadata": {
        "_uuid": "42cf09ee8811ee96a92944435174fd92366b082d",
        "collapsed": true,
        "jupyter": {
          "outputs_hidden": true
        },
        "trusted": true,
        "colab": {
          "base_uri": "https://localhost:8080/"
        },
        "id": "fSOCB-a-RwdN",
        "outputId": "59d7d25d-6488-4a16-f928-e0db235c4d90"
      },
      "execution_count": 102,
      "outputs": [
        {
          "output_type": "execute_result",
          "data": {
            "text/plain": [
              "72060"
            ]
          },
          "metadata": {},
          "execution_count": 102
        }
      ]
    },
    {
      "cell_type": "markdown",
      "source": [
        "72060 values are nans and we can see 'nein' value is more frequent than 'ja' , so we can fillna with maxFreq value bcz this column is not much indicating much importance"
      ],
      "metadata": {
        "_uuid": "a0d3bd74b3574f4e408ab39b9535377ed17bddda",
        "id": "YUKXEqsORwdN"
      }
    },
    {
      "cell_type": "code",
      "source": [
        "train_data[\"notRepairedDamage\"].fillna(\"nein\",inplace = True)"
      ],
      "metadata": {
        "_uuid": "5aaa1038b4cbb7ecef959050d8073d3f2676a5db",
        "collapsed": true,
        "jupyter": {
          "outputs_hidden": true
        },
        "trusted": true,
        "id": "MtaKa4uhRwdN"
      },
      "execution_count": 103,
      "outputs": []
    },
    {
      "cell_type": "code",
      "source": [
        "train_data[\"notRepairedDamage\"].isnull().sum()"
      ],
      "metadata": {
        "_uuid": "ac5450d5c9310d2f8d7df395c5f7a618350c36d6",
        "collapsed": true,
        "jupyter": {
          "outputs_hidden": true
        },
        "trusted": true,
        "colab": {
          "base_uri": "https://localhost:8080/"
        },
        "id": "iYyCr3c4RwdO",
        "outputId": "ba25f5eb-3825-4a12-a4b7-c7bf49e687d9"
      },
      "execution_count": 104,
      "outputs": [
        {
          "output_type": "execute_result",
          "data": {
            "text/plain": [
              "0"
            ]
          },
          "metadata": {},
          "execution_count": 104
        }
      ]
    },
    {
      "cell_type": "markdown",
      "source": [
        "**Let's handle the NaN in FuelType**"
      ],
      "metadata": {
        "_uuid": "ae3d19c4744b6a74a6cba41a5a119fa2c57cfb11",
        "id": "kwsQUSz-RwdO"
      }
    },
    {
      "cell_type": "code",
      "source": [
        "train_data[\"fuelType\"].value_counts()"
      ],
      "metadata": {
        "_uuid": "60d68d85effc23c676fccd7b2533da3f99367c00",
        "collapsed": true,
        "jupyter": {
          "outputs_hidden": true
        },
        "trusted": true,
        "colab": {
          "base_uri": "https://localhost:8080/"
        },
        "id": "uErPXQZ4RwdO",
        "outputId": "9b573f0b-89be-4eb0-a91f-655ad83ff2f8"
      },
      "execution_count": 105,
      "outputs": [
        {
          "output_type": "execute_result",
          "data": {
            "text/plain": [
              "benzin     223857\n",
              "diesel     107746\n",
              "lpg          5378\n",
              "cng           571\n",
              "hybrid        278\n",
              "andere        208\n",
              "elektro       104\n",
              "Name: fuelType, dtype: int64"
            ]
          },
          "metadata": {},
          "execution_count": 105
        }
      ]
    },
    {
      "cell_type": "markdown",
      "source": [
        "we can see only benzin and diesel are more frequent  ,  for now lets fill it with 'benzin'"
      ],
      "metadata": {
        "_uuid": "ecc392045b7578e90f3edc9b558a978effa2d588",
        "id": "eu4URdq0RwdP"
      }
    },
    {
      "cell_type": "code",
      "source": [
        "train_data[\"fuelType\"].fillna(\"benzin\",inplace = True)"
      ],
      "metadata": {
        "_uuid": "dc800ccd94f3938d1d1ba9418a547a008ff98371",
        "collapsed": true,
        "jupyter": {
          "outputs_hidden": true
        },
        "trusted": true,
        "id": "RoVmSzGsRwdP"
      },
      "execution_count": 106,
      "outputs": []
    },
    {
      "cell_type": "code",
      "source": [
        "train_data.isnull().sum()"
      ],
      "metadata": {
        "_uuid": "b0adec48e96c04ca3d3d3cdea5595db0b914b986",
        "collapsed": true,
        "jupyter": {
          "outputs_hidden": true
        },
        "trusted": true,
        "colab": {
          "base_uri": "https://localhost:8080/"
        },
        "id": "D2bUD4I6RwdP",
        "outputId": "51c11436-4e1f-4454-8da7-627d8704a24e"
      },
      "execution_count": 107,
      "outputs": [
        {
          "output_type": "execute_result",
          "data": {
            "text/plain": [
              "price                      0\n",
              "abtest                     0\n",
              "vehicleType            37869\n",
              "yearOfRegistration         0\n",
              "gearbox                    0\n",
              "powerPS                    0\n",
              "model                  20484\n",
              "kilometer                  0\n",
              "monthOfRegistration        0\n",
              "fuelType                   0\n",
              "brand                      0\n",
              "notRepairedDamage          0\n",
              "postalCode                 0\n",
              "dtype: int64"
            ]
          },
          "metadata": {},
          "execution_count": 107
        }
      ]
    },
    {
      "cell_type": "markdown",
      "source": [
        "**now fill the vehicleType nan**"
      ],
      "metadata": {
        "_uuid": "3359224494a7efdf628c87ebc235bc65b36fab72",
        "id": "YRThHVTpRwdQ"
      }
    },
    {
      "cell_type": "code",
      "source": [
        "train_data[\"vehicleType\"].value_counts()"
      ],
      "metadata": {
        "_uuid": "f376e2569d0ae9f09161c8ef5774ce890ff86fa9",
        "collapsed": true,
        "jupyter": {
          "outputs_hidden": true
        },
        "trusted": true,
        "colab": {
          "base_uri": "https://localhost:8080/"
        },
        "id": "lCXA5f7xRwdQ",
        "outputId": "689905a1-cbe8-4a33-d914-457bb356d00b"
      },
      "execution_count": 108,
      "outputs": [
        {
          "output_type": "execute_result",
          "data": {
            "text/plain": [
              "limousine     95894\n",
              "kleinwagen    80023\n",
              "kombi         67564\n",
              "bus           30201\n",
              "cabrio        22898\n",
              "coupe         19015\n",
              "suv           14707\n",
              "andere         3357\n",
              "Name: vehicleType, dtype: int64"
            ]
          },
          "metadata": {},
          "execution_count": 108
        }
      ]
    },
    {
      "cell_type": "markdown",
      "source": [
        "here no particular value is more frequent , all top 3 types are frequent"
      ],
      "metadata": {
        "_uuid": "55414e90eb1a9705f22f075b1c55e2d52096f8c5",
        "id": "d1tLVP0bRwdQ"
      }
    },
    {
      "cell_type": "code",
      "source": [
        "# we can fill according to the fuelType values\n",
        "train_data.groupby(\"fuelType\")[\"vehicleType\"].value_counts()"
      ],
      "metadata": {
        "_uuid": "5101e484fa902ad5725cd69f09bb7e207118e7ab",
        "collapsed": true,
        "jupyter": {
          "outputs_hidden": true
        },
        "trusted": true,
        "colab": {
          "base_uri": "https://localhost:8080/"
        },
        "id": "iQAjdG2FRwdR",
        "outputId": "5e2b191c-eb9d-4ccd-c47a-8e0c1e4adae6"
      },
      "execution_count": 109,
      "outputs": [
        {
          "output_type": "execute_result",
          "data": {
            "text/plain": [
              "fuelType  vehicleType\n",
              "andere    limousine         51\n",
              "          andere            44\n",
              "          kleinwagen        29\n",
              "          kombi             25\n",
              "          bus               10\n",
              "          suv                9\n",
              "          cabrio             6\n",
              "          coupe              3\n",
              "benzin    kleinwagen     72531\n",
              "          limousine      66300\n",
              "          kombi          31350\n",
              "          cabrio         20769\n",
              "          coupe          15935\n",
              "          bus            10795\n",
              "          suv             5400\n",
              "          andere          1786\n",
              "cng       bus              240\n",
              "          kombi            136\n",
              "          kleinwagen        80\n",
              "          limousine         40\n",
              "          andere            14\n",
              "          suv                4\n",
              "          cabrio             3\n",
              "          coupe              3\n",
              "diesel    kombi          34848\n",
              "          limousine      27648\n",
              "          bus            18622\n",
              "          suv             8665\n",
              "          kleinwagen      6808\n",
              "          coupe           2737\n",
              "          cabrio          1871\n",
              "          andere          1469\n",
              "elektro   kleinwagen        51\n",
              "          limousine         15\n",
              "          andere            12\n",
              "          coupe              7\n",
              "          cabrio             6\n",
              "          kombi              5\n",
              "          suv                3\n",
              "          bus                1\n",
              "hybrid    limousine        151\n",
              "          kleinwagen        38\n",
              "          kombi             27\n",
              "          suv               20\n",
              "          coupe             18\n",
              "          bus                6\n",
              "          andere             2\n",
              "lpg       limousine       1689\n",
              "          kombi           1173\n",
              "          suv              606\n",
              "          bus              527\n",
              "          kleinwagen       486\n",
              "          coupe            312\n",
              "          cabrio           243\n",
              "          andere            30\n",
              "Name: vehicleType, dtype: int64"
            ]
          },
          "metadata": {},
          "execution_count": 109
        }
      ]
    },
    {
      "cell_type": "markdown",
      "source": [
        "here we see different fuelType correspond to different vehicleType"
      ],
      "metadata": {
        "_uuid": "c9a69107da11031ced97d339a80873f1b49ae111",
        "id": "iTxgkhI7RwdR"
      }
    },
    {
      "cell_type": "code",
      "source": [
        "vehicleType = train_data[\"vehicleType\"].unique()\n",
        "fuelType = train_data[\"fuelType\"].unique()\n",
        "print(fuelType)\n",
        "print(vehicleType)\n",
        "#remove nan \n",
        "vehicleType = np.delete(vehicleType,0)"
      ],
      "metadata": {
        "_uuid": "c411bb6c9d34f69f5c0fabd91dfa2a7868c7ef2b",
        "collapsed": true,
        "jupyter": {
          "outputs_hidden": true
        },
        "trusted": true,
        "colab": {
          "base_uri": "https://localhost:8080/"
        },
        "id": "V62sR-JjRwdS",
        "outputId": "74145295-a685-4c57-8c1d-09f7cfb6fc11"
      },
      "execution_count": 110,
      "outputs": [
        {
          "output_type": "stream",
          "name": "stdout",
          "text": [
            "['benzin' 'diesel' 'lpg' 'andere' 'hybrid' 'cng' 'elektro']\n",
            "[nan 'coupe' 'suv' 'kleinwagen' 'limousine' 'cabrio' 'bus' 'kombi'\n",
            " 'andere']\n"
          ]
        }
      ]
    },
    {
      "cell_type": "code",
      "source": [
        "d = {}\n",
        "for i in fuelType :\n",
        "    m = 0\n",
        "    for j in vehicleType :\n",
        "        if train_data[(train_data.vehicleType == j) & (train_data.fuelType == i)].shape[0] > m :\n",
        "            m = train_data[(train_data.vehicleType == j) & (train_data.fuelType == i)].shape[0]\n",
        "            d[i] = j"
      ],
      "metadata": {
        "_uuid": "0d2fe239d9b156a9f9a25a334ef02fab19d5faf5",
        "collapsed": true,
        "jupyter": {
          "outputs_hidden": true
        },
        "trusted": true,
        "id": "QIJSTAPvRwdS"
      },
      "execution_count": 111,
      "outputs": []
    },
    {
      "cell_type": "code",
      "source": [
        "for i in fuelType :\n",
        "    train_data.loc[(train_data.fuelType == i) & (train_data.vehicleType.isnull()) ,\"vehicleType\" ] = d[i]\n"
      ],
      "metadata": {
        "_uuid": "b485855e8eae80fbd56c3c56ac8150e9091b13c2",
        "collapsed": true,
        "jupyter": {
          "outputs_hidden": true
        },
        "trusted": true,
        "id": "mzTjU2kTRwdS"
      },
      "execution_count": 112,
      "outputs": []
    },
    {
      "cell_type": "code",
      "source": [
        "train_data[\"vehicleType\"].isnull().sum()"
      ],
      "metadata": {
        "_uuid": "ffb1f75d99d857907d2f3af4f4405354e29313e6",
        "collapsed": true,
        "jupyter": {
          "outputs_hidden": true
        },
        "trusted": true,
        "colab": {
          "base_uri": "https://localhost:8080/"
        },
        "id": "A1ctGjE1RwdT",
        "outputId": "e793c92a-ced3-45e4-806d-1537494970df"
      },
      "execution_count": 113,
      "outputs": [
        {
          "output_type": "execute_result",
          "data": {
            "text/plain": [
              "0"
            ]
          },
          "metadata": {},
          "execution_count": 113
        }
      ]
    },
    {
      "cell_type": "markdown",
      "source": [
        "**Lets fill the model**"
      ],
      "metadata": {
        "_uuid": "ab16d78c78ef1ffcbc67fbd28b5faa3e3ce41d94",
        "id": "T-CDEKXDRwdT"
      }
    },
    {
      "cell_type": "code",
      "source": [
        "len(train_data[\"model\"].unique())"
      ],
      "metadata": {
        "_uuid": "27d83659c6be0bf4a753a7e4aab596ed25fb2456",
        "collapsed": true,
        "jupyter": {
          "outputs_hidden": true
        },
        "trusted": true,
        "colab": {
          "base_uri": "https://localhost:8080/"
        },
        "id": "wl-b_n94RwdT",
        "outputId": "38040283-5ba7-41c7-e794-f1828257f24b"
      },
      "execution_count": 114,
      "outputs": [
        {
          "output_type": "execute_result",
          "data": {
            "text/plain": [
              "252"
            ]
          },
          "metadata": {},
          "execution_count": 114
        }
      ]
    },
    {
      "cell_type": "markdown",
      "source": [
        "Too much unique values in model type lets find the maximum frequency value"
      ],
      "metadata": {
        "_uuid": "94f19b30653b96608ec2bf920d7c2df8abb44eb7",
        "id": "0o4Pv76mRwdU"
      }
    },
    {
      "cell_type": "code",
      "source": [
        "train_data[\"model\"].unique()[0]"
      ],
      "metadata": {
        "_uuid": "1fa3daf9b727fd2788b3d1a28d9ca7af9657cc06",
        "collapsed": true,
        "jupyter": {
          "outputs_hidden": true
        },
        "trusted": true,
        "colab": {
          "base_uri": "https://localhost:8080/",
          "height": 35
        },
        "id": "jAgasN-HRwdU",
        "outputId": "11b4ac12-6be3-4f04-82a8-a9d7b86ae8a0"
      },
      "execution_count": 115,
      "outputs": [
        {
          "output_type": "execute_result",
          "data": {
            "text/plain": [
              "'golf'"
            ],
            "application/vnd.google.colaboratory.intrinsic+json": {
              "type": "string"
            }
          },
          "metadata": {},
          "execution_count": 115
        }
      ]
    },
    {
      "cell_type": "markdown",
      "source": [
        "Golf occuring max times , lets fill it with golf"
      ],
      "metadata": {
        "_uuid": "993d48ea44885176fae95da24d2c76d99e0ada21",
        "id": "0bFrI8G8RwdU"
      }
    },
    {
      "cell_type": "code",
      "source": [
        "train_data[\"model\"].fillna(\"golf\",inplace =True)"
      ],
      "metadata": {
        "_uuid": "9bf97bd695d6a448169e46baec0958d9ae072a94",
        "collapsed": true,
        "jupyter": {
          "outputs_hidden": true
        },
        "trusted": true,
        "id": "pS0OciKRRwdV"
      },
      "execution_count": 116,
      "outputs": []
    },
    {
      "cell_type": "code",
      "source": [
        "train_data.isnull().sum()"
      ],
      "metadata": {
        "_uuid": "bb4cfe6fd434b58d65070b77b23e66fac848f263",
        "collapsed": true,
        "jupyter": {
          "outputs_hidden": true
        },
        "trusted": true,
        "colab": {
          "base_uri": "https://localhost:8080/"
        },
        "id": "VaDhvUlHRwdV",
        "outputId": "e792a861-e7cb-4845-ad44-9484bc2c0427"
      },
      "execution_count": 117,
      "outputs": [
        {
          "output_type": "execute_result",
          "data": {
            "text/plain": [
              "price                  0\n",
              "abtest                 0\n",
              "vehicleType            0\n",
              "yearOfRegistration     0\n",
              "gearbox                0\n",
              "powerPS                0\n",
              "model                  0\n",
              "kilometer              0\n",
              "monthOfRegistration    0\n",
              "fuelType               0\n",
              "brand                  0\n",
              "notRepairedDamage      0\n",
              "postalCode             0\n",
              "dtype: int64"
            ]
          },
          "metadata": {},
          "execution_count": 117
        }
      ]
    },
    {
      "cell_type": "markdown",
      "source": [
        "Hurrah all nans have been removed"
      ],
      "metadata": {
        "_uuid": "97988464741b03631c70bb3469aab11e56d5e9d1",
        "id": "A2TjlCMURwdV"
      }
    },
    {
      "cell_type": "code",
      "source": [
        "train_data.head()"
      ],
      "metadata": {
        "_uuid": "e8b821e9c99047fac1df6d48f4ab212c55428129",
        "collapsed": true,
        "jupyter": {
          "outputs_hidden": true
        },
        "trusted": true,
        "colab": {
          "base_uri": "https://localhost:8080/",
          "height": 270
        },
        "id": "4_tKNBphRwdW",
        "outputId": "99932ae5-17df-45d8-ed60-df94631ec78e"
      },
      "execution_count": 118,
      "outputs": [
        {
          "output_type": "execute_result",
          "data": {
            "text/plain": [
              "   price abtest vehicleType  yearOfRegistration    gearbox  powerPS  model  \\\n",
              "0    480   test  kleinwagen                1993    manuell        0   golf   \n",
              "1  18300   test       coupe                2011    manuell      190   golf   \n",
              "2   9800   test         suv                2004  automatik      163  grand   \n",
              "3   1500   test  kleinwagen                2001    manuell       75   golf   \n",
              "4   3600   test  kleinwagen                2008    manuell       69  fabia   \n",
              "\n",
              "   kilometer  monthOfRegistration fuelType       brand notRepairedDamage  \\\n",
              "0     150000                    0   benzin  volkswagen              nein   \n",
              "1     125000                    5   diesel        audi                ja   \n",
              "2     125000                    8   diesel        jeep              nein   \n",
              "3     150000                    6   benzin  volkswagen              nein   \n",
              "4      90000                    7   diesel       skoda              nein   \n",
              "\n",
              "   postalCode  \n",
              "0       70435  \n",
              "1       66954  \n",
              "2       90480  \n",
              "3       91074  \n",
              "4       60437  "
            ],
            "text/html": [
              "\n",
              "  <div id=\"df-f9d3330c-1f9a-4dff-a182-8d7dc0ee08d0\">\n",
              "    <div class=\"colab-df-container\">\n",
              "      <div>\n",
              "<style scoped>\n",
              "    .dataframe tbody tr th:only-of-type {\n",
              "        vertical-align: middle;\n",
              "    }\n",
              "\n",
              "    .dataframe tbody tr th {\n",
              "        vertical-align: top;\n",
              "    }\n",
              "\n",
              "    .dataframe thead th {\n",
              "        text-align: right;\n",
              "    }\n",
              "</style>\n",
              "<table border=\"1\" class=\"dataframe\">\n",
              "  <thead>\n",
              "    <tr style=\"text-align: right;\">\n",
              "      <th></th>\n",
              "      <th>price</th>\n",
              "      <th>abtest</th>\n",
              "      <th>vehicleType</th>\n",
              "      <th>yearOfRegistration</th>\n",
              "      <th>gearbox</th>\n",
              "      <th>powerPS</th>\n",
              "      <th>model</th>\n",
              "      <th>kilometer</th>\n",
              "      <th>monthOfRegistration</th>\n",
              "      <th>fuelType</th>\n",
              "      <th>brand</th>\n",
              "      <th>notRepairedDamage</th>\n",
              "      <th>postalCode</th>\n",
              "    </tr>\n",
              "  </thead>\n",
              "  <tbody>\n",
              "    <tr>\n",
              "      <th>0</th>\n",
              "      <td>480</td>\n",
              "      <td>test</td>\n",
              "      <td>kleinwagen</td>\n",
              "      <td>1993</td>\n",
              "      <td>manuell</td>\n",
              "      <td>0</td>\n",
              "      <td>golf</td>\n",
              "      <td>150000</td>\n",
              "      <td>0</td>\n",
              "      <td>benzin</td>\n",
              "      <td>volkswagen</td>\n",
              "      <td>nein</td>\n",
              "      <td>70435</td>\n",
              "    </tr>\n",
              "    <tr>\n",
              "      <th>1</th>\n",
              "      <td>18300</td>\n",
              "      <td>test</td>\n",
              "      <td>coupe</td>\n",
              "      <td>2011</td>\n",
              "      <td>manuell</td>\n",
              "      <td>190</td>\n",
              "      <td>golf</td>\n",
              "      <td>125000</td>\n",
              "      <td>5</td>\n",
              "      <td>diesel</td>\n",
              "      <td>audi</td>\n",
              "      <td>ja</td>\n",
              "      <td>66954</td>\n",
              "    </tr>\n",
              "    <tr>\n",
              "      <th>2</th>\n",
              "      <td>9800</td>\n",
              "      <td>test</td>\n",
              "      <td>suv</td>\n",
              "      <td>2004</td>\n",
              "      <td>automatik</td>\n",
              "      <td>163</td>\n",
              "      <td>grand</td>\n",
              "      <td>125000</td>\n",
              "      <td>8</td>\n",
              "      <td>diesel</td>\n",
              "      <td>jeep</td>\n",
              "      <td>nein</td>\n",
              "      <td>90480</td>\n",
              "    </tr>\n",
              "    <tr>\n",
              "      <th>3</th>\n",
              "      <td>1500</td>\n",
              "      <td>test</td>\n",
              "      <td>kleinwagen</td>\n",
              "      <td>2001</td>\n",
              "      <td>manuell</td>\n",
              "      <td>75</td>\n",
              "      <td>golf</td>\n",
              "      <td>150000</td>\n",
              "      <td>6</td>\n",
              "      <td>benzin</td>\n",
              "      <td>volkswagen</td>\n",
              "      <td>nein</td>\n",
              "      <td>91074</td>\n",
              "    </tr>\n",
              "    <tr>\n",
              "      <th>4</th>\n",
              "      <td>3600</td>\n",
              "      <td>test</td>\n",
              "      <td>kleinwagen</td>\n",
              "      <td>2008</td>\n",
              "      <td>manuell</td>\n",
              "      <td>69</td>\n",
              "      <td>fabia</td>\n",
              "      <td>90000</td>\n",
              "      <td>7</td>\n",
              "      <td>diesel</td>\n",
              "      <td>skoda</td>\n",
              "      <td>nein</td>\n",
              "      <td>60437</td>\n",
              "    </tr>\n",
              "  </tbody>\n",
              "</table>\n",
              "</div>\n",
              "      <button class=\"colab-df-convert\" onclick=\"convertToInteractive('df-f9d3330c-1f9a-4dff-a182-8d7dc0ee08d0')\"\n",
              "              title=\"Convert this dataframe to an interactive table.\"\n",
              "              style=\"display:none;\">\n",
              "        \n",
              "  <svg xmlns=\"http://www.w3.org/2000/svg\" height=\"24px\"viewBox=\"0 0 24 24\"\n",
              "       width=\"24px\">\n",
              "    <path d=\"M0 0h24v24H0V0z\" fill=\"none\"/>\n",
              "    <path d=\"M18.56 5.44l.94 2.06.94-2.06 2.06-.94-2.06-.94-.94-2.06-.94 2.06-2.06.94zm-11 1L8.5 8.5l.94-2.06 2.06-.94-2.06-.94L8.5 2.5l-.94 2.06-2.06.94zm10 10l.94 2.06.94-2.06 2.06-.94-2.06-.94-.94-2.06-.94 2.06-2.06.94z\"/><path d=\"M17.41 7.96l-1.37-1.37c-.4-.4-.92-.59-1.43-.59-.52 0-1.04.2-1.43.59L10.3 9.45l-7.72 7.72c-.78.78-.78 2.05 0 2.83L4 21.41c.39.39.9.59 1.41.59.51 0 1.02-.2 1.41-.59l7.78-7.78 2.81-2.81c.8-.78.8-2.07 0-2.86zM5.41 20L4 18.59l7.72-7.72 1.47 1.35L5.41 20z\"/>\n",
              "  </svg>\n",
              "      </button>\n",
              "      \n",
              "  <style>\n",
              "    .colab-df-container {\n",
              "      display:flex;\n",
              "      flex-wrap:wrap;\n",
              "      gap: 12px;\n",
              "    }\n",
              "\n",
              "    .colab-df-convert {\n",
              "      background-color: #E8F0FE;\n",
              "      border: none;\n",
              "      border-radius: 50%;\n",
              "      cursor: pointer;\n",
              "      display: none;\n",
              "      fill: #1967D2;\n",
              "      height: 32px;\n",
              "      padding: 0 0 0 0;\n",
              "      width: 32px;\n",
              "    }\n",
              "\n",
              "    .colab-df-convert:hover {\n",
              "      background-color: #E2EBFA;\n",
              "      box-shadow: 0px 1px 2px rgba(60, 64, 67, 0.3), 0px 1px 3px 1px rgba(60, 64, 67, 0.15);\n",
              "      fill: #174EA6;\n",
              "    }\n",
              "\n",
              "    [theme=dark] .colab-df-convert {\n",
              "      background-color: #3B4455;\n",
              "      fill: #D2E3FC;\n",
              "    }\n",
              "\n",
              "    [theme=dark] .colab-df-convert:hover {\n",
              "      background-color: #434B5C;\n",
              "      box-shadow: 0px 1px 3px 1px rgba(0, 0, 0, 0.15);\n",
              "      filter: drop-shadow(0px 1px 2px rgba(0, 0, 0, 0.3));\n",
              "      fill: #FFFFFF;\n",
              "    }\n",
              "  </style>\n",
              "\n",
              "      <script>\n",
              "        const buttonEl =\n",
              "          document.querySelector('#df-f9d3330c-1f9a-4dff-a182-8d7dc0ee08d0 button.colab-df-convert');\n",
              "        buttonEl.style.display =\n",
              "          google.colab.kernel.accessAllowed ? 'block' : 'none';\n",
              "\n",
              "        async function convertToInteractive(key) {\n",
              "          const element = document.querySelector('#df-f9d3330c-1f9a-4dff-a182-8d7dc0ee08d0');\n",
              "          const dataTable =\n",
              "            await google.colab.kernel.invokeFunction('convertToInteractive',\n",
              "                                                     [key], {});\n",
              "          if (!dataTable) return;\n",
              "\n",
              "          const docLinkHtml = 'Like what you see? Visit the ' +\n",
              "            '<a target=\"_blank\" href=https://colab.research.google.com/notebooks/data_table.ipynb>data table notebook</a>'\n",
              "            + ' to learn more about interactive tables.';\n",
              "          element.innerHTML = '';\n",
              "          dataTable['output_type'] = 'display_data';\n",
              "          await google.colab.output.renderOutput(dataTable, element);\n",
              "          const docLink = document.createElement('div');\n",
              "          docLink.innerHTML = docLinkHtml;\n",
              "          element.appendChild(docLink);\n",
              "        }\n",
              "      </script>\n",
              "    </div>\n",
              "  </div>\n",
              "  "
            ]
          },
          "metadata": {},
          "execution_count": 118
        }
      ]
    },
    {
      "cell_type": "markdown",
      "source": [
        "## Lets look at the postal code "
      ],
      "metadata": {
        "_uuid": "dcf8ac17febe28159c4477c8dbbc1040361ab9dc",
        "id": "FcCJJUcmRwdW"
      }
    },
    {
      "cell_type": "code",
      "source": [
        "train_data[\"postalCode\"].head()"
      ],
      "metadata": {
        "_uuid": "fc8027a44539a2760db4179bccb0a19a9b641d41",
        "collapsed": true,
        "jupyter": {
          "outputs_hidden": true
        },
        "trusted": true,
        "colab": {
          "base_uri": "https://localhost:8080/"
        },
        "id": "MtNh5NB1RwdW",
        "outputId": "1dc8ffa6-8998-4893-bd4e-eb4650ccbc1b"
      },
      "execution_count": 119,
      "outputs": [
        {
          "output_type": "execute_result",
          "data": {
            "text/plain": [
              "0    70435\n",
              "1    66954\n",
              "2    90480\n",
              "3    91074\n",
              "4    60437\n",
              "Name: postalCode, dtype: int64"
            ]
          },
          "metadata": {},
          "execution_count": 119
        }
      ]
    },
    {
      "cell_type": "markdown",
      "source": [
        "Postalcode is not much giving much importance so lets remove this column"
      ],
      "metadata": {
        "_uuid": "3f5062fbe739bf92164109d656e9dee6dc27ec60",
        "id": "GTdLOFRxRwdW"
      }
    },
    {
      "cell_type": "code",
      "source": [
        "del train_data[\"postalCode\"]"
      ],
      "metadata": {
        "_uuid": "e5ea64f45fcbb117d159802d330a83761c0e8c33",
        "collapsed": true,
        "jupyter": {
          "outputs_hidden": true
        },
        "trusted": true,
        "id": "zQI-SE0nRwdX"
      },
      "execution_count": 120,
      "outputs": []
    },
    {
      "cell_type": "markdown",
      "source": [
        "## It's time to convert string into integers"
      ],
      "metadata": {
        "_uuid": "b2bbabdc27e4260e48f80c9cc8a7861432f48995",
        "id": "qrCNy8vkRwdX"
      }
    },
    {
      "cell_type": "code",
      "source": [
        "from sklearn.preprocessing import LabelEncoder"
      ],
      "metadata": {
        "_uuid": "0b59986469df37a92855226155223117c1b95db5",
        "collapsed": true,
        "jupyter": {
          "outputs_hidden": true
        },
        "trusted": true,
        "id": "tg-TNghVRwdX"
      },
      "execution_count": 121,
      "outputs": []
    },
    {
      "cell_type": "code",
      "source": [
        "data = train_data.copy()\n",
        "train_data.head()"
      ],
      "metadata": {
        "_uuid": "75414948c514b70d7970c882b3a8a54cef0afef9",
        "collapsed": true,
        "jupyter": {
          "outputs_hidden": true
        },
        "trusted": true,
        "id": "2iDmqIzNRwdX",
        "colab": {
          "base_uri": "https://localhost:8080/",
          "height": 270
        },
        "outputId": "93bcb481-103c-4705-aee9-c029dfdc0c2a"
      },
      "execution_count": 155,
      "outputs": [
        {
          "output_type": "execute_result",
          "data": {
            "text/plain": [
              "   price abtest vehicleType  yearOfRegistration    gearbox  powerPS  model  \\\n",
              "0    480   test  kleinwagen                1993    manuell        0   golf   \n",
              "1  18300   test       coupe                2011    manuell      190   golf   \n",
              "2   9800   test         suv                2004  automatik      163  grand   \n",
              "3   1500   test  kleinwagen                2001    manuell       75   golf   \n",
              "4   3600   test  kleinwagen                2008    manuell       69  fabia   \n",
              "\n",
              "   kilometer  monthOfRegistration fuelType       brand notRepairedDamage  \n",
              "0     150000                    0   benzin  volkswagen              nein  \n",
              "1     125000                    5   diesel        audi                ja  \n",
              "2     125000                    8   diesel        jeep              nein  \n",
              "3     150000                    6   benzin  volkswagen              nein  \n",
              "4      90000                    7   diesel       skoda              nein  "
            ],
            "text/html": [
              "\n",
              "  <div id=\"df-9194a011-35de-45ad-97b4-23663a9921f0\">\n",
              "    <div class=\"colab-df-container\">\n",
              "      <div>\n",
              "<style scoped>\n",
              "    .dataframe tbody tr th:only-of-type {\n",
              "        vertical-align: middle;\n",
              "    }\n",
              "\n",
              "    .dataframe tbody tr th {\n",
              "        vertical-align: top;\n",
              "    }\n",
              "\n",
              "    .dataframe thead th {\n",
              "        text-align: right;\n",
              "    }\n",
              "</style>\n",
              "<table border=\"1\" class=\"dataframe\">\n",
              "  <thead>\n",
              "    <tr style=\"text-align: right;\">\n",
              "      <th></th>\n",
              "      <th>price</th>\n",
              "      <th>abtest</th>\n",
              "      <th>vehicleType</th>\n",
              "      <th>yearOfRegistration</th>\n",
              "      <th>gearbox</th>\n",
              "      <th>powerPS</th>\n",
              "      <th>model</th>\n",
              "      <th>kilometer</th>\n",
              "      <th>monthOfRegistration</th>\n",
              "      <th>fuelType</th>\n",
              "      <th>brand</th>\n",
              "      <th>notRepairedDamage</th>\n",
              "    </tr>\n",
              "  </thead>\n",
              "  <tbody>\n",
              "    <tr>\n",
              "      <th>0</th>\n",
              "      <td>480</td>\n",
              "      <td>test</td>\n",
              "      <td>kleinwagen</td>\n",
              "      <td>1993</td>\n",
              "      <td>manuell</td>\n",
              "      <td>0</td>\n",
              "      <td>golf</td>\n",
              "      <td>150000</td>\n",
              "      <td>0</td>\n",
              "      <td>benzin</td>\n",
              "      <td>volkswagen</td>\n",
              "      <td>nein</td>\n",
              "    </tr>\n",
              "    <tr>\n",
              "      <th>1</th>\n",
              "      <td>18300</td>\n",
              "      <td>test</td>\n",
              "      <td>coupe</td>\n",
              "      <td>2011</td>\n",
              "      <td>manuell</td>\n",
              "      <td>190</td>\n",
              "      <td>golf</td>\n",
              "      <td>125000</td>\n",
              "      <td>5</td>\n",
              "      <td>diesel</td>\n",
              "      <td>audi</td>\n",
              "      <td>ja</td>\n",
              "    </tr>\n",
              "    <tr>\n",
              "      <th>2</th>\n",
              "      <td>9800</td>\n",
              "      <td>test</td>\n",
              "      <td>suv</td>\n",
              "      <td>2004</td>\n",
              "      <td>automatik</td>\n",
              "      <td>163</td>\n",
              "      <td>grand</td>\n",
              "      <td>125000</td>\n",
              "      <td>8</td>\n",
              "      <td>diesel</td>\n",
              "      <td>jeep</td>\n",
              "      <td>nein</td>\n",
              "    </tr>\n",
              "    <tr>\n",
              "      <th>3</th>\n",
              "      <td>1500</td>\n",
              "      <td>test</td>\n",
              "      <td>kleinwagen</td>\n",
              "      <td>2001</td>\n",
              "      <td>manuell</td>\n",
              "      <td>75</td>\n",
              "      <td>golf</td>\n",
              "      <td>150000</td>\n",
              "      <td>6</td>\n",
              "      <td>benzin</td>\n",
              "      <td>volkswagen</td>\n",
              "      <td>nein</td>\n",
              "    </tr>\n",
              "    <tr>\n",
              "      <th>4</th>\n",
              "      <td>3600</td>\n",
              "      <td>test</td>\n",
              "      <td>kleinwagen</td>\n",
              "      <td>2008</td>\n",
              "      <td>manuell</td>\n",
              "      <td>69</td>\n",
              "      <td>fabia</td>\n",
              "      <td>90000</td>\n",
              "      <td>7</td>\n",
              "      <td>diesel</td>\n",
              "      <td>skoda</td>\n",
              "      <td>nein</td>\n",
              "    </tr>\n",
              "  </tbody>\n",
              "</table>\n",
              "</div>\n",
              "      <button class=\"colab-df-convert\" onclick=\"convertToInteractive('df-9194a011-35de-45ad-97b4-23663a9921f0')\"\n",
              "              title=\"Convert this dataframe to an interactive table.\"\n",
              "              style=\"display:none;\">\n",
              "        \n",
              "  <svg xmlns=\"http://www.w3.org/2000/svg\" height=\"24px\"viewBox=\"0 0 24 24\"\n",
              "       width=\"24px\">\n",
              "    <path d=\"M0 0h24v24H0V0z\" fill=\"none\"/>\n",
              "    <path d=\"M18.56 5.44l.94 2.06.94-2.06 2.06-.94-2.06-.94-.94-2.06-.94 2.06-2.06.94zm-11 1L8.5 8.5l.94-2.06 2.06-.94-2.06-.94L8.5 2.5l-.94 2.06-2.06.94zm10 10l.94 2.06.94-2.06 2.06-.94-2.06-.94-.94-2.06-.94 2.06-2.06.94z\"/><path d=\"M17.41 7.96l-1.37-1.37c-.4-.4-.92-.59-1.43-.59-.52 0-1.04.2-1.43.59L10.3 9.45l-7.72 7.72c-.78.78-.78 2.05 0 2.83L4 21.41c.39.39.9.59 1.41.59.51 0 1.02-.2 1.41-.59l7.78-7.78 2.81-2.81c.8-.78.8-2.07 0-2.86zM5.41 20L4 18.59l7.72-7.72 1.47 1.35L5.41 20z\"/>\n",
              "  </svg>\n",
              "      </button>\n",
              "      \n",
              "  <style>\n",
              "    .colab-df-container {\n",
              "      display:flex;\n",
              "      flex-wrap:wrap;\n",
              "      gap: 12px;\n",
              "    }\n",
              "\n",
              "    .colab-df-convert {\n",
              "      background-color: #E8F0FE;\n",
              "      border: none;\n",
              "      border-radius: 50%;\n",
              "      cursor: pointer;\n",
              "      display: none;\n",
              "      fill: #1967D2;\n",
              "      height: 32px;\n",
              "      padding: 0 0 0 0;\n",
              "      width: 32px;\n",
              "    }\n",
              "\n",
              "    .colab-df-convert:hover {\n",
              "      background-color: #E2EBFA;\n",
              "      box-shadow: 0px 1px 2px rgba(60, 64, 67, 0.3), 0px 1px 3px 1px rgba(60, 64, 67, 0.15);\n",
              "      fill: #174EA6;\n",
              "    }\n",
              "\n",
              "    [theme=dark] .colab-df-convert {\n",
              "      background-color: #3B4455;\n",
              "      fill: #D2E3FC;\n",
              "    }\n",
              "\n",
              "    [theme=dark] .colab-df-convert:hover {\n",
              "      background-color: #434B5C;\n",
              "      box-shadow: 0px 1px 3px 1px rgba(0, 0, 0, 0.15);\n",
              "      filter: drop-shadow(0px 1px 2px rgba(0, 0, 0, 0.3));\n",
              "      fill: #FFFFFF;\n",
              "    }\n",
              "  </style>\n",
              "\n",
              "      <script>\n",
              "        const buttonEl =\n",
              "          document.querySelector('#df-9194a011-35de-45ad-97b4-23663a9921f0 button.colab-df-convert');\n",
              "        buttonEl.style.display =\n",
              "          google.colab.kernel.accessAllowed ? 'block' : 'none';\n",
              "\n",
              "        async function convertToInteractive(key) {\n",
              "          const element = document.querySelector('#df-9194a011-35de-45ad-97b4-23663a9921f0');\n",
              "          const dataTable =\n",
              "            await google.colab.kernel.invokeFunction('convertToInteractive',\n",
              "                                                     [key], {});\n",
              "          if (!dataTable) return;\n",
              "\n",
              "          const docLinkHtml = 'Like what you see? Visit the ' +\n",
              "            '<a target=\"_blank\" href=https://colab.research.google.com/notebooks/data_table.ipynb>data table notebook</a>'\n",
              "            + ' to learn more about interactive tables.';\n",
              "          element.innerHTML = '';\n",
              "          dataTable['output_type'] = 'display_data';\n",
              "          await google.colab.output.renderOutput(dataTable, element);\n",
              "          const docLink = document.createElement('div');\n",
              "          docLink.innerHTML = docLinkHtml;\n",
              "          element.appendChild(docLink);\n",
              "        }\n",
              "      </script>\n",
              "    </div>\n",
              "  </div>\n",
              "  "
            ]
          },
          "metadata": {},
          "execution_count": 155
        }
      ]
    },
    {
      "cell_type": "code",
      "source": [
        "data[\"vehicleType\"] =LabelEncoder().fit_transform(data[\"vehicleType\"])\n",
        "data[\"fuelType\"] =LabelEncoder().fit_transform(data[\"fuelType\"])\n",
        "data[\"gearbox\"] =LabelEncoder().fit_transform(data[\"gearbox\"])\n",
        "data[\"notRepairedDamage\"] =LabelEncoder().fit_transform(data[\"notRepairedDamage\"])\n",
        "data[\"brand\"] =LabelEncoder().fit_transform(data[\"brand\"])\n",
        "data[\"model\"] =LabelEncoder().fit_transform(data[\"model\"])\n",
        "data[\"abtest\"] =LabelEncoder().fit_transform(data[\"abtest\"])\n",
        "\n",
        "data.head(60)"
      ],
      "metadata": {
        "_uuid": "e513b89a205159a35b3c3eab580709cab459efcf",
        "collapsed": true,
        "jupyter": {
          "outputs_hidden": true
        },
        "trusted": true,
        "id": "KN80NO4ARwdY",
        "colab": {
          "base_uri": "https://localhost:8080/",
          "height": 1000
        },
        "outputId": "cc250a1e-01c6-4e7f-abf7-0af77f8a1de6"
      },
      "execution_count": 151,
      "outputs": [
        {
          "output_type": "execute_result",
          "data": {
            "text/plain": [
              "    price  abtest  vehicleType  yearOfRegistration  gearbox  powerPS  model  \\\n",
              "0     480       1            4                1993        1        0    118   \n",
              "1   18300       1            3                2011        1      190    118   \n",
              "2    9800       1            7                2004        0      163    119   \n",
              "3    1500       1            4                2001        1       75    118   \n",
              "4    3600       1            4                2008        1       69    103   \n",
              "5     650       1            6                1995        1      102     11   \n",
              "6    2200       1            2                2004        1      109      8   \n",
              "7       0       1            6                1980        1       50     40   \n",
              "8   14500       0            1                2014        1      125     61   \n",
              "9     999       1            4                1998        1      101    118   \n",
              "10   2000       0            6                2004        1      105     10   \n",
              "11   2799       0            5                2005        1      140    171   \n",
              "12    999       0            5                1995        1      115    171   \n",
              "13   2500       0            5                2004        1      131    171   \n",
              "14  17999       0            7                2011        1      190    161   \n",
              "15    450       1            4                1910        1        0    130   \n",
              "16    300       1            4                2016        1       60    174   \n",
              "17   1750       0            4                2004        0       75    228   \n",
              "18   7550       1            1                2007        1      136     61   \n",
              "19   1850       1            1                2004        1      102     33   \n",
              "20  10400       0            3                2009        1      160    200   \n",
              "21   3699       1            6                2002        0      231     15   \n",
              "22   2900       1            4                2018        1       90    152   \n",
              "23    450       1            4                1997        1       50     42   \n",
              "24    500       1            6                1990        1      118     40   \n",
              "25   2500       0            5                2002        0      193     15   \n",
              "26   5555       0            4                2017        1      125     58   \n",
              "27   6900       1            6                2008        1       99     74   \n",
              "28   1990       1            1                1981        1       50    225   \n",
              "29    690       1            4                2003        1       60    177   \n",
              "30   3300       1            6                1995        0      113     97   \n",
              "31    899       0            4                2016        1       60     76   \n",
              "32    245       1            6                1994        1        0    118   \n",
              "33  18000       1            6                2007        0      218     11   \n",
              "34   3500       0            6                2004        0      122     97   \n",
              "35    350       1            4                2016        1       75    118   \n",
              "36   1600       0            0                1991        1       75    131   \n",
              "37   1500       1            5                2016        1        0    135   \n",
              "38  11900       1            0                2002        1      129     40   \n",
              "39   1500       1            1                1984        1       70     40   \n",
              "40      0       1            4                1990        1        0     84   \n",
              "41   7500       0            6                2002        0      306     97   \n",
              "42  12500       1            6                2006        0      231     15   \n",
              "43   6990       1            6                2007        1       95    167   \n",
              "44   3900       1            4                2008        0       61    108   \n",
              "45    590       0            4                1999        1       75     76   \n",
              "46   7999       0            6                2007        1      177      6   \n",
              "47   2100       1            5                1998        0      193     15   \n",
              "48   7750       0            4                2017        1       80    118   \n",
              "49  13500       1            1                2012        0      109     48   \n",
              "50  14800       0            2                2008        1      170      6   \n",
              "51   2000       0            5                2017        1       90    177   \n",
              "52   1400       0            4                2016        1       55     40   \n",
              "53   7999       0            6                2008        0      143     11   \n",
              "54   4700       0            5                2005        1        0    206   \n",
              "55    550       1            5                1999        1        0     43   \n",
              "56  39600       1            3                2014        0      306     40   \n",
              "57   3000       0            2                2006        0       61    108   \n",
              "58   2399       1            4                2018        1       64     40   \n",
              "59   1000       0            6                1998        1      101    118   \n",
              "\n",
              "    kilometer  monthOfRegistration  fuelType  brand  notRepairedDamage  \n",
              "0      150000                    0         1     38                  1  \n",
              "1      125000                    5         3      1                  0  \n",
              "2      125000                    8         3     14                  1  \n",
              "3      150000                    6         1     38                  1  \n",
              "4       90000                    7         3     31                  1  \n",
              "5      150000                   10         1      2                  0  \n",
              "6      150000                    8         1     25                  1  \n",
              "7       40000                    7         1     38                  1  \n",
              "8       30000                    8         1     10                  1  \n",
              "9      150000                    0         1     38                  1  \n",
              "10     150000                   12         1     19                  1  \n",
              "11     150000                   12         3     38                  0  \n",
              "12     150000                   11         1     38                  1  \n",
              "13     150000                    2         1     38                  1  \n",
              "14      70000                    3         3     23                  1  \n",
              "15       5000                    0         1     10                  1  \n",
              "16     150000                    0         1     38                  1  \n",
              "17     150000                    2         1     27                  1  \n",
              "18     150000                    6         3     10                  1  \n",
              "19     150000                    1         1     20                  1  \n",
              "20     100000                    4         1     38                  1  \n",
              "21     150000                    7         1      2                  1  \n",
              "22     150000                    5         1     24                  1  \n",
              "23     150000                    5         1     30                  1  \n",
              "24     150000                   10         1     20                  0  \n",
              "25     150000                    9         3      2                  0  \n",
              "26     125000                    4         1      5                  1  \n",
              "27      60000                   11         1     11                  1  \n",
              "28       5000                    1         1     38                  1  \n",
              "29     150000                    3         1      9                  1  \n",
              "30     150000                    1         3     20                  1  \n",
              "31     150000                    6         1     27                  1  \n",
              "32     150000                    2         1     38                  1  \n",
              "33      20000                    5         1      2                  1  \n",
              "34     150000                   11         3     20                  1  \n",
              "35     150000                    4         1     38                  1  \n",
              "36      70000                    0         1     24                  1  \n",
              "37     150000                    1         3     27                  1  \n",
              "38     150000                   11         3     38                  1  \n",
              "39     150000                    8         3     20                  1  \n",
              "40     150000                    1         1     24                  1  \n",
              "41     150000                    4         1     20                  1  \n",
              "42     150000                   11         3      2                  1  \n",
              "43     100000                    8         1     21                  1  \n",
              "44      80000                    6         1     32                  1  \n",
              "45     125000                    8         1     27                  1  \n",
              "46     150000                    8         3      2                  1  \n",
              "47     150000                    2         1      2                  1  \n",
              "48     100000                    1         1     38                  1  \n",
              "49     150000                    7         3     20                  1  \n",
              "50     125000                    4         1      2                  1  \n",
              "51     150000                   11         3      9                  0  \n",
              "52       5000                    1         1     12                  1  \n",
              "53     150000                   12         3      2                  1  \n",
              "54     150000                    0         1     24                  1  \n",
              "55     150000                    8         3     24                  0  \n",
              "56      30000                    7         1      2                  1  \n",
              "57      80000                    1         1     32                  1  \n",
              "58     125000                    3         1     30                  1  \n",
              "59     150000                   10         1     38                  1  "
            ],
            "text/html": [
              "\n",
              "  <div id=\"df-9b0f6f8c-f0c4-45fc-80d6-656700a3b252\">\n",
              "    <div class=\"colab-df-container\">\n",
              "      <div>\n",
              "<style scoped>\n",
              "    .dataframe tbody tr th:only-of-type {\n",
              "        vertical-align: middle;\n",
              "    }\n",
              "\n",
              "    .dataframe tbody tr th {\n",
              "        vertical-align: top;\n",
              "    }\n",
              "\n",
              "    .dataframe thead th {\n",
              "        text-align: right;\n",
              "    }\n",
              "</style>\n",
              "<table border=\"1\" class=\"dataframe\">\n",
              "  <thead>\n",
              "    <tr style=\"text-align: right;\">\n",
              "      <th></th>\n",
              "      <th>price</th>\n",
              "      <th>abtest</th>\n",
              "      <th>vehicleType</th>\n",
              "      <th>yearOfRegistration</th>\n",
              "      <th>gearbox</th>\n",
              "      <th>powerPS</th>\n",
              "      <th>model</th>\n",
              "      <th>kilometer</th>\n",
              "      <th>monthOfRegistration</th>\n",
              "      <th>fuelType</th>\n",
              "      <th>brand</th>\n",
              "      <th>notRepairedDamage</th>\n",
              "    </tr>\n",
              "  </thead>\n",
              "  <tbody>\n",
              "    <tr>\n",
              "      <th>0</th>\n",
              "      <td>480</td>\n",
              "      <td>1</td>\n",
              "      <td>4</td>\n",
              "      <td>1993</td>\n",
              "      <td>1</td>\n",
              "      <td>0</td>\n",
              "      <td>118</td>\n",
              "      <td>150000</td>\n",
              "      <td>0</td>\n",
              "      <td>1</td>\n",
              "      <td>38</td>\n",
              "      <td>1</td>\n",
              "    </tr>\n",
              "    <tr>\n",
              "      <th>1</th>\n",
              "      <td>18300</td>\n",
              "      <td>1</td>\n",
              "      <td>3</td>\n",
              "      <td>2011</td>\n",
              "      <td>1</td>\n",
              "      <td>190</td>\n",
              "      <td>118</td>\n",
              "      <td>125000</td>\n",
              "      <td>5</td>\n",
              "      <td>3</td>\n",
              "      <td>1</td>\n",
              "      <td>0</td>\n",
              "    </tr>\n",
              "    <tr>\n",
              "      <th>2</th>\n",
              "      <td>9800</td>\n",
              "      <td>1</td>\n",
              "      <td>7</td>\n",
              "      <td>2004</td>\n",
              "      <td>0</td>\n",
              "      <td>163</td>\n",
              "      <td>119</td>\n",
              "      <td>125000</td>\n",
              "      <td>8</td>\n",
              "      <td>3</td>\n",
              "      <td>14</td>\n",
              "      <td>1</td>\n",
              "    </tr>\n",
              "    <tr>\n",
              "      <th>3</th>\n",
              "      <td>1500</td>\n",
              "      <td>1</td>\n",
              "      <td>4</td>\n",
              "      <td>2001</td>\n",
              "      <td>1</td>\n",
              "      <td>75</td>\n",
              "      <td>118</td>\n",
              "      <td>150000</td>\n",
              "      <td>6</td>\n",
              "      <td>1</td>\n",
              "      <td>38</td>\n",
              "      <td>1</td>\n",
              "    </tr>\n",
              "    <tr>\n",
              "      <th>4</th>\n",
              "      <td>3600</td>\n",
              "      <td>1</td>\n",
              "      <td>4</td>\n",
              "      <td>2008</td>\n",
              "      <td>1</td>\n",
              "      <td>69</td>\n",
              "      <td>103</td>\n",
              "      <td>90000</td>\n",
              "      <td>7</td>\n",
              "      <td>3</td>\n",
              "      <td>31</td>\n",
              "      <td>1</td>\n",
              "    </tr>\n",
              "    <tr>\n",
              "      <th>5</th>\n",
              "      <td>650</td>\n",
              "      <td>1</td>\n",
              "      <td>6</td>\n",
              "      <td>1995</td>\n",
              "      <td>1</td>\n",
              "      <td>102</td>\n",
              "      <td>11</td>\n",
              "      <td>150000</td>\n",
              "      <td>10</td>\n",
              "      <td>1</td>\n",
              "      <td>2</td>\n",
              "      <td>0</td>\n",
              "    </tr>\n",
              "    <tr>\n",
              "      <th>6</th>\n",
              "      <td>2200</td>\n",
              "      <td>1</td>\n",
              "      <td>2</td>\n",
              "      <td>2004</td>\n",
              "      <td>1</td>\n",
              "      <td>109</td>\n",
              "      <td>8</td>\n",
              "      <td>150000</td>\n",
              "      <td>8</td>\n",
              "      <td>1</td>\n",
              "      <td>25</td>\n",
              "      <td>1</td>\n",
              "    </tr>\n",
              "    <tr>\n",
              "      <th>7</th>\n",
              "      <td>0</td>\n",
              "      <td>1</td>\n",
              "      <td>6</td>\n",
              "      <td>1980</td>\n",
              "      <td>1</td>\n",
              "      <td>50</td>\n",
              "      <td>40</td>\n",
              "      <td>40000</td>\n",
              "      <td>7</td>\n",
              "      <td>1</td>\n",
              "      <td>38</td>\n",
              "      <td>1</td>\n",
              "    </tr>\n",
              "    <tr>\n",
              "      <th>8</th>\n",
              "      <td>14500</td>\n",
              "      <td>0</td>\n",
              "      <td>1</td>\n",
              "      <td>2014</td>\n",
              "      <td>1</td>\n",
              "      <td>125</td>\n",
              "      <td>61</td>\n",
              "      <td>30000</td>\n",
              "      <td>8</td>\n",
              "      <td>1</td>\n",
              "      <td>10</td>\n",
              "      <td>1</td>\n",
              "    </tr>\n",
              "    <tr>\n",
              "      <th>9</th>\n",
              "      <td>999</td>\n",
              "      <td>1</td>\n",
              "      <td>4</td>\n",
              "      <td>1998</td>\n",
              "      <td>1</td>\n",
              "      <td>101</td>\n",
              "      <td>118</td>\n",
              "      <td>150000</td>\n",
              "      <td>0</td>\n",
              "      <td>1</td>\n",
              "      <td>38</td>\n",
              "      <td>1</td>\n",
              "    </tr>\n",
              "    <tr>\n",
              "      <th>10</th>\n",
              "      <td>2000</td>\n",
              "      <td>0</td>\n",
              "      <td>6</td>\n",
              "      <td>2004</td>\n",
              "      <td>1</td>\n",
              "      <td>105</td>\n",
              "      <td>10</td>\n",
              "      <td>150000</td>\n",
              "      <td>12</td>\n",
              "      <td>1</td>\n",
              "      <td>19</td>\n",
              "      <td>1</td>\n",
              "    </tr>\n",
              "    <tr>\n",
              "      <th>11</th>\n",
              "      <td>2799</td>\n",
              "      <td>0</td>\n",
              "      <td>5</td>\n",
              "      <td>2005</td>\n",
              "      <td>1</td>\n",
              "      <td>140</td>\n",
              "      <td>171</td>\n",
              "      <td>150000</td>\n",
              "      <td>12</td>\n",
              "      <td>3</td>\n",
              "      <td>38</td>\n",
              "      <td>0</td>\n",
              "    </tr>\n",
              "    <tr>\n",
              "      <th>12</th>\n",
              "      <td>999</td>\n",
              "      <td>0</td>\n",
              "      <td>5</td>\n",
              "      <td>1995</td>\n",
              "      <td>1</td>\n",
              "      <td>115</td>\n",
              "      <td>171</td>\n",
              "      <td>150000</td>\n",
              "      <td>11</td>\n",
              "      <td>1</td>\n",
              "      <td>38</td>\n",
              "      <td>1</td>\n",
              "    </tr>\n",
              "    <tr>\n",
              "      <th>13</th>\n",
              "      <td>2500</td>\n",
              "      <td>0</td>\n",
              "      <td>5</td>\n",
              "      <td>2004</td>\n",
              "      <td>1</td>\n",
              "      <td>131</td>\n",
              "      <td>171</td>\n",
              "      <td>150000</td>\n",
              "      <td>2</td>\n",
              "      <td>1</td>\n",
              "      <td>38</td>\n",
              "      <td>1</td>\n",
              "    </tr>\n",
              "    <tr>\n",
              "      <th>14</th>\n",
              "      <td>17999</td>\n",
              "      <td>0</td>\n",
              "      <td>7</td>\n",
              "      <td>2011</td>\n",
              "      <td>1</td>\n",
              "      <td>190</td>\n",
              "      <td>161</td>\n",
              "      <td>70000</td>\n",
              "      <td>3</td>\n",
              "      <td>3</td>\n",
              "      <td>23</td>\n",
              "      <td>1</td>\n",
              "    </tr>\n",
              "    <tr>\n",
              "      <th>15</th>\n",
              "      <td>450</td>\n",
              "      <td>1</td>\n",
              "      <td>4</td>\n",
              "      <td>1910</td>\n",
              "      <td>1</td>\n",
              "      <td>0</td>\n",
              "      <td>130</td>\n",
              "      <td>5000</td>\n",
              "      <td>0</td>\n",
              "      <td>1</td>\n",
              "      <td>10</td>\n",
              "      <td>1</td>\n",
              "    </tr>\n",
              "    <tr>\n",
              "      <th>16</th>\n",
              "      <td>300</td>\n",
              "      <td>1</td>\n",
              "      <td>4</td>\n",
              "      <td>2016</td>\n",
              "      <td>1</td>\n",
              "      <td>60</td>\n",
              "      <td>174</td>\n",
              "      <td>150000</td>\n",
              "      <td>0</td>\n",
              "      <td>1</td>\n",
              "      <td>38</td>\n",
              "      <td>1</td>\n",
              "    </tr>\n",
              "    <tr>\n",
              "      <th>17</th>\n",
              "      <td>1750</td>\n",
              "      <td>0</td>\n",
              "      <td>4</td>\n",
              "      <td>2004</td>\n",
              "      <td>0</td>\n",
              "      <td>75</td>\n",
              "      <td>228</td>\n",
              "      <td>150000</td>\n",
              "      <td>2</td>\n",
              "      <td>1</td>\n",
              "      <td>27</td>\n",
              "      <td>1</td>\n",
              "    </tr>\n",
              "    <tr>\n",
              "      <th>18</th>\n",
              "      <td>7550</td>\n",
              "      <td>1</td>\n",
              "      <td>1</td>\n",
              "      <td>2007</td>\n",
              "      <td>1</td>\n",
              "      <td>136</td>\n",
              "      <td>61</td>\n",
              "      <td>150000</td>\n",
              "      <td>6</td>\n",
              "      <td>3</td>\n",
              "      <td>10</td>\n",
              "      <td>1</td>\n",
              "    </tr>\n",
              "    <tr>\n",
              "      <th>19</th>\n",
              "      <td>1850</td>\n",
              "      <td>1</td>\n",
              "      <td>1</td>\n",
              "      <td>2004</td>\n",
              "      <td>1</td>\n",
              "      <td>102</td>\n",
              "      <td>33</td>\n",
              "      <td>150000</td>\n",
              "      <td>1</td>\n",
              "      <td>1</td>\n",
              "      <td>20</td>\n",
              "      <td>1</td>\n",
              "    </tr>\n",
              "    <tr>\n",
              "      <th>20</th>\n",
              "      <td>10400</td>\n",
              "      <td>0</td>\n",
              "      <td>3</td>\n",
              "      <td>2009</td>\n",
              "      <td>1</td>\n",
              "      <td>160</td>\n",
              "      <td>200</td>\n",
              "      <td>100000</td>\n",
              "      <td>4</td>\n",
              "      <td>1</td>\n",
              "      <td>38</td>\n",
              "      <td>1</td>\n",
              "    </tr>\n",
              "    <tr>\n",
              "      <th>21</th>\n",
              "      <td>3699</td>\n",
              "      <td>1</td>\n",
              "      <td>6</td>\n",
              "      <td>2002</td>\n",
              "      <td>0</td>\n",
              "      <td>231</td>\n",
              "      <td>15</td>\n",
              "      <td>150000</td>\n",
              "      <td>7</td>\n",
              "      <td>1</td>\n",
              "      <td>2</td>\n",
              "      <td>1</td>\n",
              "    </tr>\n",
              "    <tr>\n",
              "      <th>22</th>\n",
              "      <td>2900</td>\n",
              "      <td>1</td>\n",
              "      <td>4</td>\n",
              "      <td>2018</td>\n",
              "      <td>1</td>\n",
              "      <td>90</td>\n",
              "      <td>152</td>\n",
              "      <td>150000</td>\n",
              "      <td>5</td>\n",
              "      <td>1</td>\n",
              "      <td>24</td>\n",
              "      <td>1</td>\n",
              "    </tr>\n",
              "    <tr>\n",
              "      <th>23</th>\n",
              "      <td>450</td>\n",
              "      <td>1</td>\n",
              "      <td>4</td>\n",
              "      <td>1997</td>\n",
              "      <td>1</td>\n",
              "      <td>50</td>\n",
              "      <td>42</td>\n",
              "      <td>150000</td>\n",
              "      <td>5</td>\n",
              "      <td>1</td>\n",
              "      <td>30</td>\n",
              "      <td>1</td>\n",
              "    </tr>\n",
              "    <tr>\n",
              "      <th>24</th>\n",
              "      <td>500</td>\n",
              "      <td>1</td>\n",
              "      <td>6</td>\n",
              "      <td>1990</td>\n",
              "      <td>1</td>\n",
              "      <td>118</td>\n",
              "      <td>40</td>\n",
              "      <td>150000</td>\n",
              "      <td>10</td>\n",
              "      <td>1</td>\n",
              "      <td>20</td>\n",
              "      <td>0</td>\n",
              "    </tr>\n",
              "    <tr>\n",
              "      <th>25</th>\n",
              "      <td>2500</td>\n",
              "      <td>0</td>\n",
              "      <td>5</td>\n",
              "      <td>2002</td>\n",
              "      <td>0</td>\n",
              "      <td>193</td>\n",
              "      <td>15</td>\n",
              "      <td>150000</td>\n",
              "      <td>9</td>\n",
              "      <td>3</td>\n",
              "      <td>2</td>\n",
              "      <td>0</td>\n",
              "    </tr>\n",
              "    <tr>\n",
              "      <th>26</th>\n",
              "      <td>5555</td>\n",
              "      <td>0</td>\n",
              "      <td>4</td>\n",
              "      <td>2017</td>\n",
              "      <td>1</td>\n",
              "      <td>125</td>\n",
              "      <td>58</td>\n",
              "      <td>125000</td>\n",
              "      <td>4</td>\n",
              "      <td>1</td>\n",
              "      <td>5</td>\n",
              "      <td>1</td>\n",
              "    </tr>\n",
              "    <tr>\n",
              "      <th>27</th>\n",
              "      <td>6900</td>\n",
              "      <td>1</td>\n",
              "      <td>6</td>\n",
              "      <td>2008</td>\n",
              "      <td>1</td>\n",
              "      <td>99</td>\n",
              "      <td>74</td>\n",
              "      <td>60000</td>\n",
              "      <td>11</td>\n",
              "      <td>1</td>\n",
              "      <td>11</td>\n",
              "      <td>1</td>\n",
              "    </tr>\n",
              "    <tr>\n",
              "      <th>28</th>\n",
              "      <td>1990</td>\n",
              "      <td>1</td>\n",
              "      <td>1</td>\n",
              "      <td>1981</td>\n",
              "      <td>1</td>\n",
              "      <td>50</td>\n",
              "      <td>225</td>\n",
              "      <td>5000</td>\n",
              "      <td>1</td>\n",
              "      <td>1</td>\n",
              "      <td>38</td>\n",
              "      <td>1</td>\n",
              "    </tr>\n",
              "    <tr>\n",
              "      <th>29</th>\n",
              "      <td>690</td>\n",
              "      <td>1</td>\n",
              "      <td>4</td>\n",
              "      <td>2003</td>\n",
              "      <td>1</td>\n",
              "      <td>60</td>\n",
              "      <td>177</td>\n",
              "      <td>150000</td>\n",
              "      <td>3</td>\n",
              "      <td>1</td>\n",
              "      <td>9</td>\n",
              "      <td>1</td>\n",
              "    </tr>\n",
              "    <tr>\n",
              "      <th>30</th>\n",
              "      <td>3300</td>\n",
              "      <td>1</td>\n",
              "      <td>6</td>\n",
              "      <td>1995</td>\n",
              "      <td>0</td>\n",
              "      <td>113</td>\n",
              "      <td>97</td>\n",
              "      <td>150000</td>\n",
              "      <td>1</td>\n",
              "      <td>3</td>\n",
              "      <td>20</td>\n",
              "      <td>1</td>\n",
              "    </tr>\n",
              "    <tr>\n",
              "      <th>31</th>\n",
              "      <td>899</td>\n",
              "      <td>0</td>\n",
              "      <td>4</td>\n",
              "      <td>2016</td>\n",
              "      <td>1</td>\n",
              "      <td>60</td>\n",
              "      <td>76</td>\n",
              "      <td>150000</td>\n",
              "      <td>6</td>\n",
              "      <td>1</td>\n",
              "      <td>27</td>\n",
              "      <td>1</td>\n",
              "    </tr>\n",
              "    <tr>\n",
              "      <th>32</th>\n",
              "      <td>245</td>\n",
              "      <td>1</td>\n",
              "      <td>6</td>\n",
              "      <td>1994</td>\n",
              "      <td>1</td>\n",
              "      <td>0</td>\n",
              "      <td>118</td>\n",
              "      <td>150000</td>\n",
              "      <td>2</td>\n",
              "      <td>1</td>\n",
              "      <td>38</td>\n",
              "      <td>1</td>\n",
              "    </tr>\n",
              "    <tr>\n",
              "      <th>33</th>\n",
              "      <td>18000</td>\n",
              "      <td>1</td>\n",
              "      <td>6</td>\n",
              "      <td>2007</td>\n",
              "      <td>0</td>\n",
              "      <td>218</td>\n",
              "      <td>11</td>\n",
              "      <td>20000</td>\n",
              "      <td>5</td>\n",
              "      <td>1</td>\n",
              "      <td>2</td>\n",
              "      <td>1</td>\n",
              "    </tr>\n",
              "    <tr>\n",
              "      <th>34</th>\n",
              "      <td>3500</td>\n",
              "      <td>0</td>\n",
              "      <td>6</td>\n",
              "      <td>2004</td>\n",
              "      <td>0</td>\n",
              "      <td>122</td>\n",
              "      <td>97</td>\n",
              "      <td>150000</td>\n",
              "      <td>11</td>\n",
              "      <td>3</td>\n",
              "      <td>20</td>\n",
              "      <td>1</td>\n",
              "    </tr>\n",
              "    <tr>\n",
              "      <th>35</th>\n",
              "      <td>350</td>\n",
              "      <td>1</td>\n",
              "      <td>4</td>\n",
              "      <td>2016</td>\n",
              "      <td>1</td>\n",
              "      <td>75</td>\n",
              "      <td>118</td>\n",
              "      <td>150000</td>\n",
              "      <td>4</td>\n",
              "      <td>1</td>\n",
              "      <td>38</td>\n",
              "      <td>1</td>\n",
              "    </tr>\n",
              "    <tr>\n",
              "      <th>36</th>\n",
              "      <td>1600</td>\n",
              "      <td>0</td>\n",
              "      <td>0</td>\n",
              "      <td>1991</td>\n",
              "      <td>1</td>\n",
              "      <td>75</td>\n",
              "      <td>131</td>\n",
              "      <td>70000</td>\n",
              "      <td>0</td>\n",
              "      <td>1</td>\n",
              "      <td>24</td>\n",
              "      <td>1</td>\n",
              "    </tr>\n",
              "    <tr>\n",
              "      <th>37</th>\n",
              "      <td>1500</td>\n",
              "      <td>1</td>\n",
              "      <td>5</td>\n",
              "      <td>2016</td>\n",
              "      <td>1</td>\n",
              "      <td>0</td>\n",
              "      <td>135</td>\n",
              "      <td>150000</td>\n",
              "      <td>1</td>\n",
              "      <td>3</td>\n",
              "      <td>27</td>\n",
              "      <td>1</td>\n",
              "    </tr>\n",
              "    <tr>\n",
              "      <th>38</th>\n",
              "      <td>11900</td>\n",
              "      <td>1</td>\n",
              "      <td>0</td>\n",
              "      <td>2002</td>\n",
              "      <td>1</td>\n",
              "      <td>129</td>\n",
              "      <td>40</td>\n",
              "      <td>150000</td>\n",
              "      <td>11</td>\n",
              "      <td>3</td>\n",
              "      <td>38</td>\n",
              "      <td>1</td>\n",
              "    </tr>\n",
              "    <tr>\n",
              "      <th>39</th>\n",
              "      <td>1500</td>\n",
              "      <td>1</td>\n",
              "      <td>1</td>\n",
              "      <td>1984</td>\n",
              "      <td>1</td>\n",
              "      <td>70</td>\n",
              "      <td>40</td>\n",
              "      <td>150000</td>\n",
              "      <td>8</td>\n",
              "      <td>3</td>\n",
              "      <td>20</td>\n",
              "      <td>1</td>\n",
              "    </tr>\n",
              "    <tr>\n",
              "      <th>40</th>\n",
              "      <td>0</td>\n",
              "      <td>1</td>\n",
              "      <td>4</td>\n",
              "      <td>1990</td>\n",
              "      <td>1</td>\n",
              "      <td>0</td>\n",
              "      <td>84</td>\n",
              "      <td>150000</td>\n",
              "      <td>1</td>\n",
              "      <td>1</td>\n",
              "      <td>24</td>\n",
              "      <td>1</td>\n",
              "    </tr>\n",
              "    <tr>\n",
              "      <th>41</th>\n",
              "      <td>7500</td>\n",
              "      <td>0</td>\n",
              "      <td>6</td>\n",
              "      <td>2002</td>\n",
              "      <td>0</td>\n",
              "      <td>306</td>\n",
              "      <td>97</td>\n",
              "      <td>150000</td>\n",
              "      <td>4</td>\n",
              "      <td>1</td>\n",
              "      <td>20</td>\n",
              "      <td>1</td>\n",
              "    </tr>\n",
              "    <tr>\n",
              "      <th>42</th>\n",
              "      <td>12500</td>\n",
              "      <td>1</td>\n",
              "      <td>6</td>\n",
              "      <td>2006</td>\n",
              "      <td>0</td>\n",
              "      <td>231</td>\n",
              "      <td>15</td>\n",
              "      <td>150000</td>\n",
              "      <td>11</td>\n",
              "      <td>3</td>\n",
              "      <td>2</td>\n",
              "      <td>1</td>\n",
              "    </tr>\n",
              "    <tr>\n",
              "      <th>43</th>\n",
              "      <td>6990</td>\n",
              "      <td>1</td>\n",
              "      <td>6</td>\n",
              "      <td>2007</td>\n",
              "      <td>1</td>\n",
              "      <td>95</td>\n",
              "      <td>167</td>\n",
              "      <td>100000</td>\n",
              "      <td>8</td>\n",
              "      <td>1</td>\n",
              "      <td>21</td>\n",
              "      <td>1</td>\n",
              "    </tr>\n",
              "    <tr>\n",
              "      <th>44</th>\n",
              "      <td>3900</td>\n",
              "      <td>1</td>\n",
              "      <td>4</td>\n",
              "      <td>2008</td>\n",
              "      <td>0</td>\n",
              "      <td>61</td>\n",
              "      <td>108</td>\n",
              "      <td>80000</td>\n",
              "      <td>6</td>\n",
              "      <td>1</td>\n",
              "      <td>32</td>\n",
              "      <td>1</td>\n",
              "    </tr>\n",
              "    <tr>\n",
              "      <th>45</th>\n",
              "      <td>590</td>\n",
              "      <td>0</td>\n",
              "      <td>4</td>\n",
              "      <td>1999</td>\n",
              "      <td>1</td>\n",
              "      <td>75</td>\n",
              "      <td>76</td>\n",
              "      <td>125000</td>\n",
              "      <td>8</td>\n",
              "      <td>1</td>\n",
              "      <td>27</td>\n",
              "      <td>1</td>\n",
              "    </tr>\n",
              "    <tr>\n",
              "      <th>46</th>\n",
              "      <td>7999</td>\n",
              "      <td>0</td>\n",
              "      <td>6</td>\n",
              "      <td>2007</td>\n",
              "      <td>1</td>\n",
              "      <td>177</td>\n",
              "      <td>6</td>\n",
              "      <td>150000</td>\n",
              "      <td>8</td>\n",
              "      <td>3</td>\n",
              "      <td>2</td>\n",
              "      <td>1</td>\n",
              "    </tr>\n",
              "    <tr>\n",
              "      <th>47</th>\n",
              "      <td>2100</td>\n",
              "      <td>1</td>\n",
              "      <td>5</td>\n",
              "      <td>1998</td>\n",
              "      <td>0</td>\n",
              "      <td>193</td>\n",
              "      <td>15</td>\n",
              "      <td>150000</td>\n",
              "      <td>2</td>\n",
              "      <td>1</td>\n",
              "      <td>2</td>\n",
              "      <td>1</td>\n",
              "    </tr>\n",
              "    <tr>\n",
              "      <th>48</th>\n",
              "      <td>7750</td>\n",
              "      <td>0</td>\n",
              "      <td>4</td>\n",
              "      <td>2017</td>\n",
              "      <td>1</td>\n",
              "      <td>80</td>\n",
              "      <td>118</td>\n",
              "      <td>100000</td>\n",
              "      <td>1</td>\n",
              "      <td>1</td>\n",
              "      <td>38</td>\n",
              "      <td>1</td>\n",
              "    </tr>\n",
              "    <tr>\n",
              "      <th>49</th>\n",
              "      <td>13500</td>\n",
              "      <td>1</td>\n",
              "      <td>1</td>\n",
              "      <td>2012</td>\n",
              "      <td>0</td>\n",
              "      <td>109</td>\n",
              "      <td>48</td>\n",
              "      <td>150000</td>\n",
              "      <td>7</td>\n",
              "      <td>3</td>\n",
              "      <td>20</td>\n",
              "      <td>1</td>\n",
              "    </tr>\n",
              "    <tr>\n",
              "      <th>50</th>\n",
              "      <td>14800</td>\n",
              "      <td>0</td>\n",
              "      <td>2</td>\n",
              "      <td>2008</td>\n",
              "      <td>1</td>\n",
              "      <td>170</td>\n",
              "      <td>6</td>\n",
              "      <td>125000</td>\n",
              "      <td>4</td>\n",
              "      <td>1</td>\n",
              "      <td>2</td>\n",
              "      <td>1</td>\n",
              "    </tr>\n",
              "    <tr>\n",
              "      <th>51</th>\n",
              "      <td>2000</td>\n",
              "      <td>0</td>\n",
              "      <td>5</td>\n",
              "      <td>2017</td>\n",
              "      <td>1</td>\n",
              "      <td>90</td>\n",
              "      <td>177</td>\n",
              "      <td>150000</td>\n",
              "      <td>11</td>\n",
              "      <td>3</td>\n",
              "      <td>9</td>\n",
              "      <td>0</td>\n",
              "    </tr>\n",
              "    <tr>\n",
              "      <th>52</th>\n",
              "      <td>1400</td>\n",
              "      <td>0</td>\n",
              "      <td>4</td>\n",
              "      <td>2016</td>\n",
              "      <td>1</td>\n",
              "      <td>55</td>\n",
              "      <td>40</td>\n",
              "      <td>5000</td>\n",
              "      <td>1</td>\n",
              "      <td>1</td>\n",
              "      <td>12</td>\n",
              "      <td>1</td>\n",
              "    </tr>\n",
              "    <tr>\n",
              "      <th>53</th>\n",
              "      <td>7999</td>\n",
              "      <td>0</td>\n",
              "      <td>6</td>\n",
              "      <td>2008</td>\n",
              "      <td>0</td>\n",
              "      <td>143</td>\n",
              "      <td>11</td>\n",
              "      <td>150000</td>\n",
              "      <td>12</td>\n",
              "      <td>3</td>\n",
              "      <td>2</td>\n",
              "      <td>1</td>\n",
              "    </tr>\n",
              "    <tr>\n",
              "      <th>54</th>\n",
              "      <td>4700</td>\n",
              "      <td>0</td>\n",
              "      <td>5</td>\n",
              "      <td>2005</td>\n",
              "      <td>1</td>\n",
              "      <td>0</td>\n",
              "      <td>206</td>\n",
              "      <td>150000</td>\n",
              "      <td>0</td>\n",
              "      <td>1</td>\n",
              "      <td>24</td>\n",
              "      <td>1</td>\n",
              "    </tr>\n",
              "    <tr>\n",
              "      <th>55</th>\n",
              "      <td>550</td>\n",
              "      <td>1</td>\n",
              "      <td>5</td>\n",
              "      <td>1999</td>\n",
              "      <td>1</td>\n",
              "      <td>0</td>\n",
              "      <td>43</td>\n",
              "      <td>150000</td>\n",
              "      <td>8</td>\n",
              "      <td>3</td>\n",
              "      <td>24</td>\n",
              "      <td>0</td>\n",
              "    </tr>\n",
              "    <tr>\n",
              "      <th>56</th>\n",
              "      <td>39600</td>\n",
              "      <td>1</td>\n",
              "      <td>3</td>\n",
              "      <td>2014</td>\n",
              "      <td>0</td>\n",
              "      <td>306</td>\n",
              "      <td>40</td>\n",
              "      <td>30000</td>\n",
              "      <td>7</td>\n",
              "      <td>1</td>\n",
              "      <td>2</td>\n",
              "      <td>1</td>\n",
              "    </tr>\n",
              "    <tr>\n",
              "      <th>57</th>\n",
              "      <td>3000</td>\n",
              "      <td>0</td>\n",
              "      <td>2</td>\n",
              "      <td>2006</td>\n",
              "      <td>0</td>\n",
              "      <td>61</td>\n",
              "      <td>108</td>\n",
              "      <td>80000</td>\n",
              "      <td>1</td>\n",
              "      <td>1</td>\n",
              "      <td>32</td>\n",
              "      <td>1</td>\n",
              "    </tr>\n",
              "    <tr>\n",
              "      <th>58</th>\n",
              "      <td>2399</td>\n",
              "      <td>1</td>\n",
              "      <td>4</td>\n",
              "      <td>2018</td>\n",
              "      <td>1</td>\n",
              "      <td>64</td>\n",
              "      <td>40</td>\n",
              "      <td>125000</td>\n",
              "      <td>3</td>\n",
              "      <td>1</td>\n",
              "      <td>30</td>\n",
              "      <td>1</td>\n",
              "    </tr>\n",
              "    <tr>\n",
              "      <th>59</th>\n",
              "      <td>1000</td>\n",
              "      <td>0</td>\n",
              "      <td>6</td>\n",
              "      <td>1998</td>\n",
              "      <td>1</td>\n",
              "      <td>101</td>\n",
              "      <td>118</td>\n",
              "      <td>150000</td>\n",
              "      <td>10</td>\n",
              "      <td>1</td>\n",
              "      <td>38</td>\n",
              "      <td>1</td>\n",
              "    </tr>\n",
              "  </tbody>\n",
              "</table>\n",
              "</div>\n",
              "      <button class=\"colab-df-convert\" onclick=\"convertToInteractive('df-9b0f6f8c-f0c4-45fc-80d6-656700a3b252')\"\n",
              "              title=\"Convert this dataframe to an interactive table.\"\n",
              "              style=\"display:none;\">\n",
              "        \n",
              "  <svg xmlns=\"http://www.w3.org/2000/svg\" height=\"24px\"viewBox=\"0 0 24 24\"\n",
              "       width=\"24px\">\n",
              "    <path d=\"M0 0h24v24H0V0z\" fill=\"none\"/>\n",
              "    <path d=\"M18.56 5.44l.94 2.06.94-2.06 2.06-.94-2.06-.94-.94-2.06-.94 2.06-2.06.94zm-11 1L8.5 8.5l.94-2.06 2.06-.94-2.06-.94L8.5 2.5l-.94 2.06-2.06.94zm10 10l.94 2.06.94-2.06 2.06-.94-2.06-.94-.94-2.06-.94 2.06-2.06.94z\"/><path d=\"M17.41 7.96l-1.37-1.37c-.4-.4-.92-.59-1.43-.59-.52 0-1.04.2-1.43.59L10.3 9.45l-7.72 7.72c-.78.78-.78 2.05 0 2.83L4 21.41c.39.39.9.59 1.41.59.51 0 1.02-.2 1.41-.59l7.78-7.78 2.81-2.81c.8-.78.8-2.07 0-2.86zM5.41 20L4 18.59l7.72-7.72 1.47 1.35L5.41 20z\"/>\n",
              "  </svg>\n",
              "      </button>\n",
              "      \n",
              "  <style>\n",
              "    .colab-df-container {\n",
              "      display:flex;\n",
              "      flex-wrap:wrap;\n",
              "      gap: 12px;\n",
              "    }\n",
              "\n",
              "    .colab-df-convert {\n",
              "      background-color: #E8F0FE;\n",
              "      border: none;\n",
              "      border-radius: 50%;\n",
              "      cursor: pointer;\n",
              "      display: none;\n",
              "      fill: #1967D2;\n",
              "      height: 32px;\n",
              "      padding: 0 0 0 0;\n",
              "      width: 32px;\n",
              "    }\n",
              "\n",
              "    .colab-df-convert:hover {\n",
              "      background-color: #E2EBFA;\n",
              "      box-shadow: 0px 1px 2px rgba(60, 64, 67, 0.3), 0px 1px 3px 1px rgba(60, 64, 67, 0.15);\n",
              "      fill: #174EA6;\n",
              "    }\n",
              "\n",
              "    [theme=dark] .colab-df-convert {\n",
              "      background-color: #3B4455;\n",
              "      fill: #D2E3FC;\n",
              "    }\n",
              "\n",
              "    [theme=dark] .colab-df-convert:hover {\n",
              "      background-color: #434B5C;\n",
              "      box-shadow: 0px 1px 3px 1px rgba(0, 0, 0, 0.15);\n",
              "      filter: drop-shadow(0px 1px 2px rgba(0, 0, 0, 0.3));\n",
              "      fill: #FFFFFF;\n",
              "    }\n",
              "  </style>\n",
              "\n",
              "      <script>\n",
              "        const buttonEl =\n",
              "          document.querySelector('#df-9b0f6f8c-f0c4-45fc-80d6-656700a3b252 button.colab-df-convert');\n",
              "        buttonEl.style.display =\n",
              "          google.colab.kernel.accessAllowed ? 'block' : 'none';\n",
              "\n",
              "        async function convertToInteractive(key) {\n",
              "          const element = document.querySelector('#df-9b0f6f8c-f0c4-45fc-80d6-656700a3b252');\n",
              "          const dataTable =\n",
              "            await google.colab.kernel.invokeFunction('convertToInteractive',\n",
              "                                                     [key], {});\n",
              "          if (!dataTable) return;\n",
              "\n",
              "          const docLinkHtml = 'Like what you see? Visit the ' +\n",
              "            '<a target=\"_blank\" href=https://colab.research.google.com/notebooks/data_table.ipynb>data table notebook</a>'\n",
              "            + ' to learn more about interactive tables.';\n",
              "          element.innerHTML = '';\n",
              "          dataTable['output_type'] = 'display_data';\n",
              "          await google.colab.output.renderOutput(dataTable, element);\n",
              "          const docLink = document.createElement('div');\n",
              "          docLink.innerHTML = docLinkHtml;\n",
              "          element.appendChild(docLink);\n",
              "        }\n",
              "      </script>\n",
              "    </div>\n",
              "  </div>\n",
              "  "
            ]
          },
          "metadata": {},
          "execution_count": 151
        }
      ]
    },
    {
      "cell_type": "markdown",
      "source": [
        "## Outliers Removal"
      ],
      "metadata": {
        "_uuid": "4c219bcc7398842c282be15fca90347f168f9fa7",
        "id": "s6kPGqv_RwdY"
      }
    },
    {
      "cell_type": "code",
      "source": [
        "# analysis year o registration\n",
        "data[\"yearOfRegistration\"].describe()"
      ],
      "metadata": {
        "_uuid": "39055489b24693d7b06ed2ebf4b7a99f5a4638d7",
        "collapsed": true,
        "jupyter": {
          "outputs_hidden": true
        },
        "trusted": true,
        "colab": {
          "base_uri": "https://localhost:8080/"
        },
        "id": "o1d5gQSGRwdY",
        "outputId": "36794531-56f2-4304-dcb7-2e398d0b4955"
      },
      "execution_count": 124,
      "outputs": [
        {
          "output_type": "execute_result",
          "data": {
            "text/plain": [
              "count    371528.000000\n",
              "mean       2004.577997\n",
              "std          92.866598\n",
              "min        1000.000000\n",
              "25%        1999.000000\n",
              "50%        2003.000000\n",
              "75%        2008.000000\n",
              "max        9999.000000\n",
              "Name: yearOfRegistration, dtype: float64"
            ]
          },
          "metadata": {},
          "execution_count": 124
        }
      ]
    },
    {
      "cell_type": "markdown",
      "source": [
        "We can see yearOfRegistration goes from 1000 to 9999  but 50% of the values are nearby 1999"
      ],
      "metadata": {
        "_uuid": "2a183e7bd7e36c5e327009bfd492334c5c917a95",
        "id": "NJESx5nHRwdY"
      }
    },
    {
      "cell_type": "code",
      "source": [
        "data[data.yearOfRegistration > 2017].shape"
      ],
      "metadata": {
        "_uuid": "09608971a156e49309a4a398ba15db8bd1315a3c",
        "collapsed": true,
        "jupyter": {
          "outputs_hidden": true
        },
        "trusted": true,
        "colab": {
          "base_uri": "https://localhost:8080/"
        },
        "id": "RRHLnE1CRwdZ",
        "outputId": "75ce110b-2e7e-4318-ad4f-9b97f086e6c0"
      },
      "execution_count": 125,
      "outputs": [
        {
          "output_type": "execute_result",
          "data": {
            "text/plain": [
              "(4134, 12)"
            ]
          },
          "metadata": {},
          "execution_count": 125
        }
      ]
    },
    {
      "cell_type": "code",
      "source": [
        "data[data.yearOfRegistration < 1950].shape"
      ],
      "metadata": {
        "_uuid": "1f14a41dd8d6417aa6ca1b61c82cb81acdeb4e3a",
        "collapsed": true,
        "jupyter": {
          "outputs_hidden": true
        },
        "trusted": true,
        "colab": {
          "base_uri": "https://localhost:8080/"
        },
        "id": "_9lJpIZHRwdZ",
        "outputId": "cf3247c8-8662-4099-f301-68c7be159d12"
      },
      "execution_count": 126,
      "outputs": [
        {
          "output_type": "execute_result",
          "data": {
            "text/plain": [
              "(289, 12)"
            ]
          },
          "metadata": {},
          "execution_count": 126
        }
      ]
    },
    {
      "cell_type": "markdown",
      "source": [
        "So only 289 registration are there before 1950 and 4000 registration after 2017 , so these are outliers and should be removed for better results"
      ],
      "metadata": {
        "_uuid": "48627938df925036962db89f9bcc25e14e7c8090",
        "id": "a_T05xJNRwdZ"
      }
    },
    {
      "cell_type": "code",
      "source": [
        "data = data[(data.yearOfRegistration < 2017)  & (data.yearOfRegistration > 1950)]"
      ],
      "metadata": {
        "_uuid": "183e70e7bd8de833e519655e77bcfc71ce20ca53",
        "collapsed": true,
        "jupyter": {
          "outputs_hidden": true
        },
        "trusted": true,
        "id": "GYGYBtN8Rwda"
      },
      "execution_count": 127,
      "outputs": []
    },
    {
      "cell_type": "code",
      "source": [
        "# now lets look at the price\n",
        "data[\"price\"].describe()"
      ],
      "metadata": {
        "_uuid": "fa9b55cf336dbc1074a8e8579c52006a65c5c159",
        "collapsed": true,
        "jupyter": {
          "outputs_hidden": true
        },
        "trusted": true,
        "colab": {
          "base_uri": "https://localhost:8080/"
        },
        "id": "cauWhuMGRwda",
        "outputId": "fcf44c0d-0c56-4c16-fac4-02ff960a4b9c"
      },
      "execution_count": 128,
      "outputs": [
        {
          "output_type": "execute_result",
          "data": {
            "text/plain": [
              "count    3.565370e+05\n",
              "mean     1.739899e+04\n",
              "std      3.658497e+06\n",
              "min      0.000000e+00\n",
              "25%      1.150000e+03\n",
              "50%      2.999000e+03\n",
              "75%      7.400000e+03\n",
              "max      2.147484e+09\n",
              "Name: price, dtype: float64"
            ]
          },
          "metadata": {},
          "execution_count": 128
        }
      ]
    },
    {
      "cell_type": "markdown",
      "source": [
        "price starts from 0 and goes upto max 2.147484e+09 , but the price 0 is unrealistic"
      ],
      "metadata": {
        "_uuid": "fcf2a8b408dc681b2f20a0677931c3763fac92e8",
        "id": "n2y6BYtTRwda"
      }
    },
    {
      "cell_type": "code",
      "source": [
        "data[data.price < 100].shape"
      ],
      "metadata": {
        "_uuid": "c3f21406377625c80d2fda21e1ff745b748b2c43",
        "collapsed": true,
        "jupyter": {
          "outputs_hidden": true
        },
        "trusted": true,
        "colab": {
          "base_uri": "https://localhost:8080/"
        },
        "id": "RQWneUluRwda",
        "outputId": "8c06c1ec-49c2-4d98-bdf9-0326c8e5bc32"
      },
      "execution_count": 129,
      "outputs": [
        {
          "output_type": "execute_result",
          "data": {
            "text/plain": [
              "(12372, 12)"
            ]
          },
          "metadata": {},
          "execution_count": 129
        }
      ]
    },
    {
      "cell_type": "code",
      "source": [
        "data[data.price > 200000].shape"
      ],
      "metadata": {
        "_uuid": "a7f1f324647cbcf28f4d9700469168fd9e5e144b",
        "collapsed": true,
        "jupyter": {
          "outputs_hidden": true
        },
        "trusted": true,
        "colab": {
          "base_uri": "https://localhost:8080/"
        },
        "id": "xo_bzTKgRwdb",
        "outputId": "daffa5e1-fac5-48c4-f98c-f8f35ae3de01"
      },
      "execution_count": 130,
      "outputs": [
        {
          "output_type": "execute_result",
          "data": {
            "text/plain": [
              "(158, 12)"
            ]
          },
          "metadata": {},
          "execution_count": 130
        }
      ]
    },
    {
      "cell_type": "markdown",
      "source": [
        "only 158 values are there above 2 lakh and 12000 enries below 100, lets remove them"
      ],
      "metadata": {
        "_uuid": "7099568cc38ca8389084054bf3c6ee95a7e24160",
        "id": "Y2rrbFnORwdb"
      }
    },
    {
      "cell_type": "code",
      "source": [
        "data = data[(data.price > 100) & (data.price < 200000) ]"
      ],
      "metadata": {
        "_uuid": "e31bd51aa5a843a6607d6010baf9a7087cc47a0d",
        "collapsed": true,
        "jupyter": {
          "outputs_hidden": true
        },
        "trusted": true,
        "id": "lYEoTihJRwdb"
      },
      "execution_count": 131,
      "outputs": []
    },
    {
      "cell_type": "code",
      "source": [
        "# lets seperate the output and input\n",
        "y  = data[\"price\"]\n",
        "x =  data.drop(labels=[\"price\",\"model\",\"abtest\",\"brand\"],axis=1)\n",
        "x.head()"
      ],
      "metadata": {
        "_uuid": "98e1b354022440bf7be98c777c28c9c90f5561a0",
        "jupyter": {
          "outputs_hidden": true
        },
        "trusted": true,
        "colab": {
          "base_uri": "https://localhost:8080/",
          "height": 206
        },
        "id": "fdTezzS4Rwdb",
        "outputId": "6666096c-2432-45e6-ce97-13a575e4ab46"
      },
      "execution_count": 132,
      "outputs": [
        {
          "output_type": "execute_result",
          "data": {
            "text/plain": [
              "   vehicleType  yearOfRegistration  gearbox  powerPS  kilometer  \\\n",
              "0            4                1993        1        0     150000   \n",
              "1            3                2011        1      190     125000   \n",
              "2            7                2004        0      163     125000   \n",
              "3            4                2001        1       75     150000   \n",
              "4            4                2008        1       69      90000   \n",
              "\n",
              "   monthOfRegistration  fuelType  notRepairedDamage  \n",
              "0                    0         1                  1  \n",
              "1                    5         3                  0  \n",
              "2                    8         3                  1  \n",
              "3                    6         1                  1  \n",
              "4                    7         3                  1  "
            ],
            "text/html": [
              "\n",
              "  <div id=\"df-d8bab9c8-166d-4b17-a887-56c334ff2b79\">\n",
              "    <div class=\"colab-df-container\">\n",
              "      <div>\n",
              "<style scoped>\n",
              "    .dataframe tbody tr th:only-of-type {\n",
              "        vertical-align: middle;\n",
              "    }\n",
              "\n",
              "    .dataframe tbody tr th {\n",
              "        vertical-align: top;\n",
              "    }\n",
              "\n",
              "    .dataframe thead th {\n",
              "        text-align: right;\n",
              "    }\n",
              "</style>\n",
              "<table border=\"1\" class=\"dataframe\">\n",
              "  <thead>\n",
              "    <tr style=\"text-align: right;\">\n",
              "      <th></th>\n",
              "      <th>vehicleType</th>\n",
              "      <th>yearOfRegistration</th>\n",
              "      <th>gearbox</th>\n",
              "      <th>powerPS</th>\n",
              "      <th>kilometer</th>\n",
              "      <th>monthOfRegistration</th>\n",
              "      <th>fuelType</th>\n",
              "      <th>notRepairedDamage</th>\n",
              "    </tr>\n",
              "  </thead>\n",
              "  <tbody>\n",
              "    <tr>\n",
              "      <th>0</th>\n",
              "      <td>4</td>\n",
              "      <td>1993</td>\n",
              "      <td>1</td>\n",
              "      <td>0</td>\n",
              "      <td>150000</td>\n",
              "      <td>0</td>\n",
              "      <td>1</td>\n",
              "      <td>1</td>\n",
              "    </tr>\n",
              "    <tr>\n",
              "      <th>1</th>\n",
              "      <td>3</td>\n",
              "      <td>2011</td>\n",
              "      <td>1</td>\n",
              "      <td>190</td>\n",
              "      <td>125000</td>\n",
              "      <td>5</td>\n",
              "      <td>3</td>\n",
              "      <td>0</td>\n",
              "    </tr>\n",
              "    <tr>\n",
              "      <th>2</th>\n",
              "      <td>7</td>\n",
              "      <td>2004</td>\n",
              "      <td>0</td>\n",
              "      <td>163</td>\n",
              "      <td>125000</td>\n",
              "      <td>8</td>\n",
              "      <td>3</td>\n",
              "      <td>1</td>\n",
              "    </tr>\n",
              "    <tr>\n",
              "      <th>3</th>\n",
              "      <td>4</td>\n",
              "      <td>2001</td>\n",
              "      <td>1</td>\n",
              "      <td>75</td>\n",
              "      <td>150000</td>\n",
              "      <td>6</td>\n",
              "      <td>1</td>\n",
              "      <td>1</td>\n",
              "    </tr>\n",
              "    <tr>\n",
              "      <th>4</th>\n",
              "      <td>4</td>\n",
              "      <td>2008</td>\n",
              "      <td>1</td>\n",
              "      <td>69</td>\n",
              "      <td>90000</td>\n",
              "      <td>7</td>\n",
              "      <td>3</td>\n",
              "      <td>1</td>\n",
              "    </tr>\n",
              "  </tbody>\n",
              "</table>\n",
              "</div>\n",
              "      <button class=\"colab-df-convert\" onclick=\"convertToInteractive('df-d8bab9c8-166d-4b17-a887-56c334ff2b79')\"\n",
              "              title=\"Convert this dataframe to an interactive table.\"\n",
              "              style=\"display:none;\">\n",
              "        \n",
              "  <svg xmlns=\"http://www.w3.org/2000/svg\" height=\"24px\"viewBox=\"0 0 24 24\"\n",
              "       width=\"24px\">\n",
              "    <path d=\"M0 0h24v24H0V0z\" fill=\"none\"/>\n",
              "    <path d=\"M18.56 5.44l.94 2.06.94-2.06 2.06-.94-2.06-.94-.94-2.06-.94 2.06-2.06.94zm-11 1L8.5 8.5l.94-2.06 2.06-.94-2.06-.94L8.5 2.5l-.94 2.06-2.06.94zm10 10l.94 2.06.94-2.06 2.06-.94-2.06-.94-.94-2.06-.94 2.06-2.06.94z\"/><path d=\"M17.41 7.96l-1.37-1.37c-.4-.4-.92-.59-1.43-.59-.52 0-1.04.2-1.43.59L10.3 9.45l-7.72 7.72c-.78.78-.78 2.05 0 2.83L4 21.41c.39.39.9.59 1.41.59.51 0 1.02-.2 1.41-.59l7.78-7.78 2.81-2.81c.8-.78.8-2.07 0-2.86zM5.41 20L4 18.59l7.72-7.72 1.47 1.35L5.41 20z\"/>\n",
              "  </svg>\n",
              "      </button>\n",
              "      \n",
              "  <style>\n",
              "    .colab-df-container {\n",
              "      display:flex;\n",
              "      flex-wrap:wrap;\n",
              "      gap: 12px;\n",
              "    }\n",
              "\n",
              "    .colab-df-convert {\n",
              "      background-color: #E8F0FE;\n",
              "      border: none;\n",
              "      border-radius: 50%;\n",
              "      cursor: pointer;\n",
              "      display: none;\n",
              "      fill: #1967D2;\n",
              "      height: 32px;\n",
              "      padding: 0 0 0 0;\n",
              "      width: 32px;\n",
              "    }\n",
              "\n",
              "    .colab-df-convert:hover {\n",
              "      background-color: #E2EBFA;\n",
              "      box-shadow: 0px 1px 2px rgba(60, 64, 67, 0.3), 0px 1px 3px 1px rgba(60, 64, 67, 0.15);\n",
              "      fill: #174EA6;\n",
              "    }\n",
              "\n",
              "    [theme=dark] .colab-df-convert {\n",
              "      background-color: #3B4455;\n",
              "      fill: #D2E3FC;\n",
              "    }\n",
              "\n",
              "    [theme=dark] .colab-df-convert:hover {\n",
              "      background-color: #434B5C;\n",
              "      box-shadow: 0px 1px 3px 1px rgba(0, 0, 0, 0.15);\n",
              "      filter: drop-shadow(0px 1px 2px rgba(0, 0, 0, 0.3));\n",
              "      fill: #FFFFFF;\n",
              "    }\n",
              "  </style>\n",
              "\n",
              "      <script>\n",
              "        const buttonEl =\n",
              "          document.querySelector('#df-d8bab9c8-166d-4b17-a887-56c334ff2b79 button.colab-df-convert');\n",
              "        buttonEl.style.display =\n",
              "          google.colab.kernel.accessAllowed ? 'block' : 'none';\n",
              "\n",
              "        async function convertToInteractive(key) {\n",
              "          const element = document.querySelector('#df-d8bab9c8-166d-4b17-a887-56c334ff2b79');\n",
              "          const dataTable =\n",
              "            await google.colab.kernel.invokeFunction('convertToInteractive',\n",
              "                                                     [key], {});\n",
              "          if (!dataTable) return;\n",
              "\n",
              "          const docLinkHtml = 'Like what you see? Visit the ' +\n",
              "            '<a target=\"_blank\" href=https://colab.research.google.com/notebooks/data_table.ipynb>data table notebook</a>'\n",
              "            + ' to learn more about interactive tables.';\n",
              "          element.innerHTML = '';\n",
              "          dataTable['output_type'] = 'display_data';\n",
              "          await google.colab.output.renderOutput(dataTable, element);\n",
              "          const docLink = document.createElement('div');\n",
              "          docLink.innerHTML = docLinkHtml;\n",
              "          element.appendChild(docLink);\n",
              "        }\n",
              "      </script>\n",
              "    </div>\n",
              "  </div>\n",
              "  "
            ]
          },
          "metadata": {},
          "execution_count": 132
        }
      ]
    },
    {
      "cell_type": "markdown",
      "source": [
        "## Lets split the data into training and testing data"
      ],
      "metadata": {
        "_uuid": "401c05bceb364d78d1a644670bf7b71ecd9df2b4",
        "id": "bAbrV_KFRwdc"
      }
    },
    {
      "cell_type": "code",
      "source": [
        "x_train, x_test, y_train, y_test = train_test_split(x, y, random_state = 0)"
      ],
      "metadata": {
        "_uuid": "3e02535321323fb260210c789ea48c9034800e4b",
        "collapsed": true,
        "jupyter": {
          "outputs_hidden": true
        },
        "trusted": true,
        "id": "zRqyoXPyRwdc"
      },
      "execution_count": 133,
      "outputs": []
    },
    {
      "cell_type": "code",
      "source": [
        "from sklearn.tree import DecisionTreeRegressor\n",
        "dt_reg = DecisionTreeRegressor(random_state = 0)\n",
        "\n",
        "dt_reg.fit(x_train, y_train)\n",
        "y_pred=dt_reg.predict(x_test)\n",
        "print(\"Decision Tree Score on Training set is\",dt_reg.score(x_train, y_train))#Training Accuracy\n",
        "print(\"Decision Tree Score on Test Set is\",dt_reg.score(x_test, y_test))#Testing Accuracy"
      ],
      "metadata": {
        "colab": {
          "base_uri": "https://localhost:8080/"
        },
        "id": "5Jo_6OiyS0Af",
        "outputId": "43c3575c-dc79-4f45-cb91-6a38926ea24c"
      },
      "execution_count": 134,
      "outputs": [
        {
          "output_type": "stream",
          "name": "stdout",
          "text": [
            "Decision Tree Score on Training set is 0.9780869423975163\n",
            "Decision Tree Score on Test Set is 0.6537281560184612\n"
          ]
        }
      ]
    },
    {
      "cell_type": "code",
      "source": [
        "from sklearn.model_selection import cross_val_score\n",
        "from sklearn import metrics\n",
        "from sklearn.metrics import mean_absolute_error\n",
        "from sklearn.metrics import mean_squared_error\n",
        "\n",
        "accuracies = cross_val_score(dt_reg, x_train, y_train, cv = 5)\n",
        "print(accuracies)\n",
        "print(\"Accuracy: {:.2f} %\".format(accuracies.mean()*100))\n",
        "print(\"Standard Deviation: {:.2f} %\".format(accuracies.std()*100))\n",
        "\n",
        "mae=mean_absolute_error(y_pred, y_test)\n",
        "print(\"Mean Absolute Error:\" , mae)\n",
        "\n",
        "mse=mean_squared_error(y_test, y_pred)\n",
        "print(\"Mean Squared Error:\" , mse)\n",
        "\n",
        "print('RMSE:', np.sqrt(metrics.mean_squared_error(y_test, y_pred)))\n",
        "\n",
        "print('The r2_score is', metrics.r2_score(y_test, y_pred))"
      ],
      "metadata": {
        "colab": {
          "base_uri": "https://localhost:8080/"
        },
        "id": "zf7xjV6aTFXm",
        "outputId": "df4779f3-a8e3-4a70-9d30-783936636991"
      },
      "execution_count": 135,
      "outputs": [
        {
          "output_type": "stream",
          "name": "stdout",
          "text": [
            "[0.64820732 0.67103996 0.64975367 0.61781354 0.61767186]\n",
            "Accuracy: 64.09 %\n",
            "Standard Deviation: 2.06 %\n",
            "Mean Absolute Error: 1785.7005906169413\n",
            "Mean Squared Error: 25344203.937449083\n",
            "RMSE: 5034.3027260435065\n",
            "The r2_score is 0.6537281560184612\n"
          ]
        }
      ]
    },
    {
      "cell_type": "code",
      "source": [
        "# classifier\n",
        "rfr = RandomForestRegressor()\n",
        "rfr.fit(x_train, y_train)\n",
        "y_pred=rfr.predict(x_test)\n",
        "\n",
        "rfr.score(x_test, y_test)"
      ],
      "metadata": {
        "_uuid": "15dd694e49f9ea293560a0d97c7b094a35efa9d4",
        "collapsed": true,
        "jupyter": {
          "outputs_hidden": true
        },
        "trusted": true,
        "colab": {
          "base_uri": "https://localhost:8080/"
        },
        "id": "DGTzDpBnRwdc",
        "outputId": "c7e4c98a-b0d7-4094-cd6d-818beada5478"
      },
      "execution_count": 136,
      "outputs": [
        {
          "output_type": "execute_result",
          "data": {
            "text/plain": [
              "0.7777120413245329"
            ]
          },
          "metadata": {},
          "execution_count": 136
        }
      ]
    },
    {
      "cell_type": "code",
      "source": [
        "\n",
        "mae=mean_absolute_error(y_pred, y_test)\n",
        "print(\"Mean Absolute Error:\" , mae)\n",
        "\n",
        "mse=mean_squared_error(y_test, y_pred)\n",
        "print(\"Mean Squared Error:\" , mse)\n",
        "\n",
        "print('RMSE:', np.sqrt(metrics.mean_squared_error(y_test, y_pred)))\n",
        "\n",
        "print('The r2_score is', metrics.r2_score(y_test, y_pred))"
      ],
      "metadata": {
        "colab": {
          "base_uri": "https://localhost:8080/"
        },
        "id": "Sqvx9AqATn4L",
        "outputId": "c256c2a8-30c1-424d-9cba-507aaaaf8c5e"
      },
      "execution_count": 137,
      "outputs": [
        {
          "output_type": "stream",
          "name": "stdout",
          "text": [
            "Mean Absolute Error: 1540.7811668626903\n",
            "Mean Squared Error: 16269620.113296445\n",
            "RMSE: 4033.5617155680716\n",
            "The r2_score is 0.7777120413245329\n"
          ]
        }
      ]
    },
    {
      "cell_type": "code",
      "source": [
        "print(y_pred[:10])\n",
        "print(y_test.values[:10])\n"
      ],
      "metadata": {
        "colab": {
          "base_uri": "https://localhost:8080/"
        },
        "id": "hOzIVeGfYdQ-",
        "outputId": "2a068d5f-307d-42bc-8366-bb6252695ba4"
      },
      "execution_count": 138,
      "outputs": [
        {
          "output_type": "stream",
          "name": "stdout",
          "text": [
            "[9558.36428571  856.13666667 8326.88963095 1186.06490476 2901.71\n",
            " 6567.93124206  722.34888167 1675.47083333 2527.145      1544.23400984]\n",
            "[9900  550 8750 1850 2350 4599  850 1250 2300 1450]\n"
          ]
        }
      ]
    },
    {
      "cell_type": "code",
      "source": [
        "import matplotlib.pyplot as plt\n",
        "\n",
        "sns.distplot(y_test-y_pred)\n",
        "plt.show()\n",
        "\n",
        "plt.scatter(y_test, y_pred, alpha = 0.5)\n",
        "plt.xlabel(\"y_test\")\n",
        "plt.ylabel(\"y_pred\")\n",
        "plt.show()"
      ],
      "metadata": {
        "colab": {
          "base_uri": "https://localhost:8080/",
          "height": 597
        },
        "id": "IDPAiBdBTVrV",
        "outputId": "2cd44f74-14d3-4704-a139-a0bad7c9add6"
      },
      "execution_count": 139,
      "outputs": [
        {
          "output_type": "stream",
          "name": "stderr",
          "text": [
            "/usr/local/lib/python3.7/dist-packages/seaborn/distributions.py:2619: FutureWarning: `distplot` is a deprecated function and will be removed in a future version. Please adapt your code to use either `displot` (a figure-level function with similar flexibility) or `histplot` (an axes-level function for histograms).\n",
            "  warnings.warn(msg, FutureWarning)\n"
          ]
        },
        {
          "output_type": "display_data",
          "data": {
            "text/plain": [
              "<Figure size 432x288 with 1 Axes>"
            ],
            "image/png": "[encoded data removed]"
          },
          "metadata": {
            "needs_background": "light"
          }
        },
        {
          "output_type": "display_data",
          "data": {
            "text/plain": [
              "<Figure size 432x288 with 1 Axes>"
            ],
            "image/png": "[encoded data removed]"
          },
          "metadata": {
            "needs_background": "light"
          }
        }
      ]
    },
    {
      "cell_type": "code",
      "source": [
        "import pickle\n",
        "pickle.dump(rfr, open(\"rfr.pkl\", \"wb\"))\n",
        "\n",
        "# load model from file\n",
        "model = pickle.load(open(\"rfr.pkl\", \"rb\"))\n",
        "\n"
      ],
      "metadata": {
        "id": "yh7rehgoY3SW"
      },
      "execution_count": 140,
      "outputs": []
    },
    {
      "cell_type": "code",
      "source": [
        "x_test.head(10)"
      ],
      "metadata": {
        "colab": {
          "base_uri": "https://localhost:8080/",
          "height": 363
        },
        "id": "OScqV_BZaACe",
        "outputId": "58ac6dcb-fb9a-430a-bf74-76acf1e5be0c"
      },
      "execution_count": 145,
      "outputs": [
        {
          "output_type": "execute_result",
          "data": {
            "text/plain": [
              "        vehicleType  yearOfRegistration  gearbox  powerPS  kilometer  \\\n",
              "141530            5                2011        1      140     150000   \n",
              "334137            5                1998        1      122     150000   \n",
              "355153            4                2012        1       82      30000   \n",
              "323599            4                2000        1       64     150000   \n",
              "341931            7                2004        0      125     150000   \n",
              "269260            6                2007        1      105     150000   \n",
              "23013             4                2016        1        0     150000   \n",
              "204612            4                2002        1       83     150000   \n",
              "196984            4                2003        1       75      70000   \n",
              "217238            4                2003        1       50     150000   \n",
              "\n",
              "        monthOfRegistration  fuelType  notRepairedDamage  \n",
              "141530                    8         3                  1  \n",
              "334137                   10         1                  0  \n",
              "355153                    2         1                  1  \n",
              "323599                    9         3                  1  \n",
              "341931                    4         3                  0  \n",
              "269260                   10         3                  1  \n",
              "23013                     8         1                  0  \n",
              "204612                    9         1                  1  \n",
              "196984                   11         1                  1  \n",
              "217238                    2         1                  1  "
            ],
            "text/html": [
              "\n",
              "  <div id=\"df-2bf41aaa-a27b-4327-911a-a7e3749ba271\">\n",
              "    <div class=\"colab-df-container\">\n",
              "      <div>\n",
              "<style scoped>\n",
              "    .dataframe tbody tr th:only-of-type {\n",
              "        vertical-align: middle;\n",
              "    }\n",
              "\n",
              "    .dataframe tbody tr th {\n",
              "        vertical-align: top;\n",
              "    }\n",
              "\n",
              "    .dataframe thead th {\n",
              "        text-align: right;\n",
              "    }\n",
              "</style>\n",
              "<table border=\"1\" class=\"dataframe\">\n",
              "  <thead>\n",
              "    <tr style=\"text-align: right;\">\n",
              "      <th></th>\n",
              "      <th>vehicleType</th>\n",
              "      <th>yearOfRegistration</th>\n",
              "      <th>gearbox</th>\n",
              "      <th>powerPS</th>\n",
              "      <th>kilometer</th>\n",
              "      <th>monthOfRegistration</th>\n",
              "      <th>fuelType</th>\n",
              "      <th>notRepairedDamage</th>\n",
              "    </tr>\n",
              "  </thead>\n",
              "  <tbody>\n",
              "    <tr>\n",
              "      <th>141530</th>\n",
              "      <td>5</td>\n",
              "      <td>2011</td>\n",
              "      <td>1</td>\n",
              "      <td>140</td>\n",
              "      <td>150000</td>\n",
              "      <td>8</td>\n",
              "      <td>3</td>\n",
              "      <td>1</td>\n",
              "    </tr>\n",
              "    <tr>\n",
              "      <th>334137</th>\n",
              "      <td>5</td>\n",
              "      <td>1998</td>\n",
              "      <td>1</td>\n",
              "      <td>122</td>\n",
              "      <td>150000</td>\n",
              "      <td>10</td>\n",
              "      <td>1</td>\n",
              "      <td>0</td>\n",
              "    </tr>\n",
              "    <tr>\n",
              "      <th>355153</th>\n",
              "      <td>4</td>\n",
              "      <td>2012</td>\n",
              "      <td>1</td>\n",
              "      <td>82</td>\n",
              "      <td>30000</td>\n",
              "      <td>2</td>\n",
              "      <td>1</td>\n",
              "      <td>1</td>\n",
              "    </tr>\n",
              "    <tr>\n",
              "      <th>323599</th>\n",
              "      <td>4</td>\n",
              "      <td>2000</td>\n",
              "      <td>1</td>\n",
              "      <td>64</td>\n",
              "      <td>150000</td>\n",
              "      <td>9</td>\n",
              "      <td>3</td>\n",
              "      <td>1</td>\n",
              "    </tr>\n",
              "    <tr>\n",
              "      <th>341931</th>\n",
              "      <td>7</td>\n",
              "      <td>2004</td>\n",
              "      <td>0</td>\n",
              "      <td>125</td>\n",
              "      <td>150000</td>\n",
              "      <td>4</td>\n",
              "      <td>3</td>\n",
              "      <td>0</td>\n",
              "    </tr>\n",
              "    <tr>\n",
              "      <th>269260</th>\n",
              "      <td>6</td>\n",
              "      <td>2007</td>\n",
              "      <td>1</td>\n",
              "      <td>105</td>\n",
              "      <td>150000</td>\n",
              "      <td>10</td>\n",
              "      <td>3</td>\n",
              "      <td>1</td>\n",
              "    </tr>\n",
              "    <tr>\n",
              "      <th>23013</th>\n",
              "      <td>4</td>\n",
              "      <td>2016</td>\n",
              "      <td>1</td>\n",
              "      <td>0</td>\n",
              "      <td>150000</td>\n",
              "      <td>8</td>\n",
              "      <td>1</td>\n",
              "      <td>0</td>\n",
              "    </tr>\n",
              "    <tr>\n",
              "      <th>204612</th>\n",
              "      <td>4</td>\n",
              "      <td>2002</td>\n",
              "      <td>1</td>\n",
              "      <td>83</td>\n",
              "      <td>150000</td>\n",
              "      <td>9</td>\n",
              "      <td>1</td>\n",
              "      <td>1</td>\n",
              "    </tr>\n",
              "    <tr>\n",
              "      <th>196984</th>\n",
              "      <td>4</td>\n",
              "      <td>2003</td>\n",
              "      <td>1</td>\n",
              "      <td>75</td>\n",
              "      <td>70000</td>\n",
              "      <td>11</td>\n",
              "      <td>1</td>\n",
              "      <td>1</td>\n",
              "    </tr>\n",
              "    <tr>\n",
              "      <th>217238</th>\n",
              "      <td>4</td>\n",
              "      <td>2003</td>\n",
              "      <td>1</td>\n",
              "      <td>50</td>\n",
              "      <td>150000</td>\n",
              "      <td>2</td>\n",
              "      <td>1</td>\n",
              "      <td>1</td>\n",
              "    </tr>\n",
              "  </tbody>\n",
              "</table>\n",
              "</div>\n",
              "      <button class=\"colab-df-convert\" onclick=\"convertToInteractive('df-2bf41aaa-a27b-4327-911a-a7e3749ba271')\"\n",
              "              title=\"Convert this dataframe to an interactive table.\"\n",
              "              style=\"display:none;\">\n",
              "        \n",
              "  <svg xmlns=\"http://www.w3.org/2000/svg\" height=\"24px\"viewBox=\"0 0 24 24\"\n",
              "       width=\"24px\">\n",
              "    <path d=\"M0 0h24v24H0V0z\" fill=\"none\"/>\n",
              "    <path d=\"M18.56 5.44l.94 2.06.94-2.06 2.06-.94-2.06-.94-.94-2.06-.94 2.06-2.06.94zm-11 1L8.5 8.5l.94-2.06 2.06-.94-2.06-.94L8.5 2.5l-.94 2.06-2.06.94zm10 10l.94 2.06.94-2.06 2.06-.94-2.06-.94-.94-2.06-.94 2.06-2.06.94z\"/><path d=\"M17.41 7.96l-1.37-1.37c-.4-.4-.92-.59-1.43-.59-.52 0-1.04.2-1.43.59L10.3 9.45l-7.72 7.72c-.78.78-.78 2.05 0 2.83L4 21.41c.39.39.9.59 1.41.59.51 0 1.02-.2 1.41-.59l7.78-7.78 2.81-2.81c.8-.78.8-2.07 0-2.86zM5.41 20L4 18.59l7.72-7.72 1.47 1.35L5.41 20z\"/>\n",
              "  </svg>\n",
              "      </button>\n",
              "      \n",
              "  <style>\n",
              "    .colab-df-container {\n",
              "      display:flex;\n",
              "      flex-wrap:wrap;\n",
              "      gap: 12px;\n",
              "    }\n",
              "\n",
              "    .colab-df-convert {\n",
              "      background-color: #E8F0FE;\n",
              "      border: none;\n",
              "      border-radius: 50%;\n",
              "      cursor: pointer;\n",
              "      display: none;\n",
              "      fill: #1967D2;\n",
              "      height: 32px;\n",
              "      padding: 0 0 0 0;\n",
              "      width: 32px;\n",
              "    }\n",
              "\n",
              "    .colab-df-convert:hover {\n",
              "      background-color: #E2EBFA;\n",
              "      box-shadow: 0px 1px 2px rgba(60, 64, 67, 0.3), 0px 1px 3px 1px rgba(60, 64, 67, 0.15);\n",
              "      fill: #174EA6;\n",
              "    }\n",
              "\n",
              "    [theme=dark] .colab-df-convert {\n",
              "      background-color: #3B4455;\n",
              "      fill: #D2E3FC;\n",
              "    }\n",
              "\n",
              "    [theme=dark] .colab-df-convert:hover {\n",
              "      background-color: #434B5C;\n",
              "      box-shadow: 0px 1px 3px 1px rgba(0, 0, 0, 0.15);\n",
              "      filter: drop-shadow(0px 1px 2px rgba(0, 0, 0, 0.3));\n",
              "      fill: #FFFFFF;\n",
              "    }\n",
              "  </style>\n",
              "\n",
              "      <script>\n",
              "        const buttonEl =\n",
              "          document.querySelector('#df-2bf41aaa-a27b-4327-911a-a7e3749ba271 button.colab-df-convert');\n",
              "        buttonEl.style.display =\n",
              "          google.colab.kernel.accessAllowed ? 'block' : 'none';\n",
              "\n",
              "        async function convertToInteractive(key) {\n",
              "          const element = document.querySelector('#df-2bf41aaa-a27b-4327-911a-a7e3749ba271');\n",
              "          const dataTable =\n",
              "            await google.colab.kernel.invokeFunction('convertToInteractive',\n",
              "                                                     [key], {});\n",
              "          if (!dataTable) return;\n",
              "\n",
              "          const docLinkHtml = 'Like what you see? Visit the ' +\n",
              "            '<a target=\"_blank\" href=https://colab.research.google.com/notebooks/data_table.ipynb>data table notebook</a>'\n",
              "            + ' to learn more about interactive tables.';\n",
              "          element.innerHTML = '';\n",
              "          dataTable['output_type'] = 'display_data';\n",
              "          await google.colab.output.renderOutput(dataTable, element);\n",
              "          const docLink = document.createElement('div');\n",
              "          docLink.innerHTML = docLinkHtml;\n",
              "          element.appendChild(docLink);\n",
              "        }\n",
              "      </script>\n",
              "    </div>\n",
              "  </div>\n",
              "  "
            ]
          },
          "metadata": {},
          "execution_count": 145
        }
      ]
    },
    {
      "cell_type": "code",
      "source": [
        "y_test.head()"
      ],
      "metadata": {
        "colab": {
          "base_uri": "https://localhost:8080/"
        },
        "id": "NKxsbSPBaWNh",
        "outputId": "6fb66f4e-2bbf-44a7-a2e6-eb852f3f098c"
      },
      "execution_count": 142,
      "outputs": [
        {
          "output_type": "execute_result",
          "data": {
            "text/plain": [
              "141530    9900\n",
              "334137     550\n",
              "355153    8750\n",
              "323599    1850\n",
              "341931    2350\n",
              "Name: price, dtype: int64"
            ]
          },
          "metadata": {},
          "execution_count": 142
        }
      ]
    },
    {
      "cell_type": "code",
      "source": [
        "model.predict([[5,\t2011,\t1\t,140,\t150000,\t8\t,3,\t1]])"
      ],
      "metadata": {
        "colab": {
          "base_uri": "https://localhost:8080/"
        },
        "id": "yEi5q2tcZtTH",
        "outputId": "c4e470f4-a8f0-48a1-98b5-b04553db6f44"
      },
      "execution_count": 144,
      "outputs": [
        {
          "output_type": "stream",
          "name": "stderr",
          "text": [
            "/usr/local/lib/python3.7/dist-packages/sklearn/base.py:451: UserWarning: X does not have valid feature names, but RandomForestRegressor was fitted with feature names\n",
            "  \"X does not have valid feature names, but\"\n"
          ]
        },
        {
          "output_type": "execute_result",
          "data": {
            "text/plain": [
              "array([9558.36428571])"
            ]
          },
          "metadata": {},
          "execution_count": 144
        }
      ]
    }
  ]
}